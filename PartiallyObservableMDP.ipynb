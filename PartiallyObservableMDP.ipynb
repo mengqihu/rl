{
 "cells": [
  {
   "cell_type": "markdown",
   "metadata": {},
   "source": [
    "## Partially Observable Markov Decision Processes"
   ]
  },
  {
   "cell_type": "markdown",
   "metadata": {},
   "source": [
    "### Belief update"
   ]
  },
  {
   "cell_type": "code",
   "execution_count": 1,
   "metadata": {},
   "outputs": [],
   "source": [
    "import numpy as np\n",
    "\n",
    "from pomdpenvironment import BabyPOMDP, TigerPOMDP\n",
    "from pomdpagent import POMDPAgent"
   ]
  },
  {
   "cell_type": "code",
   "execution_count": 2,
   "metadata": {},
   "outputs": [],
   "source": [
    "model = BabyPOMDP()\n",
    "# model = TigerPOMDP()"
   ]
  },
  {
   "cell_type": "code",
   "execution_count": 3,
   "metadata": {},
   "outputs": [
    {
     "data": {
      "text/plain": [
       "array([0.09278351, 0.90721649])"
      ]
     },
     "execution_count": 3,
     "metadata": {},
     "output_type": "execute_result"
    }
   ],
   "source": [
    "b1 = np.ones(model.n_states) / model.n_states\n",
    "b2 = model.update_belief(b1, 'not-feed', 'crying')\n",
    "b2"
   ]
  },
  {
   "cell_type": "code",
   "execution_count": 4,
   "metadata": {},
   "outputs": [
    {
     "data": {
      "text/plain": [
       "array([1., 0.])"
      ]
     },
     "execution_count": 4,
     "metadata": {},
     "output_type": "execute_result"
    }
   ],
   "source": [
    "b3 = model.update_belief(b2, 'feed', 'not-crying')\n",
    "b3"
   ]
  },
  {
   "cell_type": "code",
   "execution_count": 5,
   "metadata": {},
   "outputs": [
    {
     "data": {
      "text/plain": [
       "array([0.97590361, 0.02409639])"
      ]
     },
     "execution_count": 5,
     "metadata": {},
     "output_type": "execute_result"
    }
   ],
   "source": [
    "b4 = model.update_belief(b3, 'not-feed', 'not-crying')\n",
    "b4"
   ]
  },
  {
   "cell_type": "markdown",
   "metadata": {},
   "source": [
    "### Value iteration"
   ]
  },
  {
   "cell_type": "code",
   "execution_count": 6,
   "metadata": {},
   "outputs": [],
   "source": [
    "pomdpAgent = POMDPAgent(discount=0.9, threshold=0.00001, max_iter=1000, verbose=False)"
   ]
  },
  {
   "cell_type": "code",
   "execution_count": 7,
   "metadata": {},
   "outputs": [
    {
     "name": "stdout",
     "output_type": "stream",
     "text": [
      "Level 1 # of alpha vectors: 2\n",
      "Level 2 # of alpha vectors: 2\n",
      "Level 3 # of alpha vectors: 3\n",
      "Level 4 # of alpha vectors: 2\n",
      "Level 5 # of alpha vectors: 2\n",
      "Level 6 # of alpha vectors: 2\n",
      "Level 7 # of alpha vectors: 2\n",
      "Level 8 # of alpha vectors: 2\n",
      "Level 9 # of alpha vectors: 2\n",
      "Level 10 # of alpha vectors: 2\n",
      "Level 11 # of alpha vectors: 2\n",
      "Level 12 # of alpha vectors: 2\n",
      "Level 13 # of alpha vectors: 2\n",
      "Level 14 # of alpha vectors: 2\n",
      "Level 15 # of alpha vectors: 2\n",
      "Level 16 # of alpha vectors: 2\n",
      "Level 17 # of alpha vectors: 2\n",
      "Level 18 # of alpha vectors: 2\n",
      "Level 19 # of alpha vectors: 2\n",
      "Level 20 # of alpha vectors: 2\n",
      "Level 21 # of alpha vectors: 2\n",
      "Level 22 # of alpha vectors: 2\n",
      "Level 23 # of alpha vectors: 2\n",
      "Level 24 # of alpha vectors: 2\n",
      "Level 25 # of alpha vectors: 2\n",
      "Level 26 # of alpha vectors: 2\n",
      "Level 27 # of alpha vectors: 2\n",
      "Level 28 # of alpha vectors: 2\n",
      "Level 29 # of alpha vectors: 2\n",
      "Level 30 # of alpha vectors: 2\n",
      "Level 31 # of alpha vectors: 2\n",
      "Level 32 # of alpha vectors: 2\n",
      "Level 33 # of alpha vectors: 2\n",
      "Level 34 # of alpha vectors: 2\n",
      "Level 35 # of alpha vectors: 2\n",
      "Level 36 # of alpha vectors: 2\n",
      "Level 37 # of alpha vectors: 2\n",
      "Level 38 # of alpha vectors: 2\n",
      "Level 39 # of alpha vectors: 2\n",
      "Level 40 # of alpha vectors: 2\n",
      "Level 41 # of alpha vectors: 2\n",
      "Level 42 # of alpha vectors: 2\n",
      "Level 43 # of alpha vectors: 2\n",
      "Level 44 # of alpha vectors: 2\n",
      "Level 45 # of alpha vectors: 2\n",
      "Level 46 # of alpha vectors: 2\n",
      "Level 47 # of alpha vectors: 2\n",
      "Level 48 # of alpha vectors: 2\n",
      "Level 49 # of alpha vectors: 2\n",
      "Level 50 # of alpha vectors: 2\n",
      "Level 51 # of alpha vectors: 2\n",
      "Level 52 # of alpha vectors: 2\n",
      "Level 53 # of alpha vectors: 2\n",
      "Level 54 # of alpha vectors: 2\n",
      "Level 55 # of alpha vectors: 2\n",
      "Level 56 # of alpha vectors: 2\n",
      "Level 57 # of alpha vectors: 2\n",
      "Level 58 # of alpha vectors: 2\n",
      "Level 59 # of alpha vectors: 2\n",
      "Level 60 # of alpha vectors: 2\n",
      "Level 61 # of alpha vectors: 2\n",
      "Level 62 # of alpha vectors: 2\n",
      "Level 63 # of alpha vectors: 2\n",
      "Level 64 # of alpha vectors: 2\n",
      "Level 65 # of alpha vectors: 2\n",
      "Level 66 # of alpha vectors: 2\n",
      "Level 67 # of alpha vectors: 2\n",
      "Level 68 # of alpha vectors: 2\n",
      "Level 69 # of alpha vectors: 2\n",
      "Level 70 # of alpha vectors: 2\n",
      "Level 71 # of alpha vectors: 2\n",
      "Level 72 # of alpha vectors: 2\n",
      "Level 73 # of alpha vectors: 2\n",
      "Level 74 # of alpha vectors: 2\n",
      "Level 75 # of alpha vectors: 2\n",
      "Level 76 # of alpha vectors: 2\n",
      "Level 77 # of alpha vectors: 2\n",
      "Level 78 # of alpha vectors: 2\n",
      "Level 79 # of alpha vectors: 2\n",
      "Level 80 # of alpha vectors: 2\n",
      "Level 81 # of alpha vectors: 2\n",
      "Level 82 # of alpha vectors: 2\n",
      "Level 83 # of alpha vectors: 2\n",
      "Level 84 # of alpha vectors: 2\n",
      "Level 85 # of alpha vectors: 2\n",
      "Level 86 # of alpha vectors: 2\n",
      "Level 87 # of alpha vectors: 2\n",
      "Level 88 # of alpha vectors: 2\n",
      "Level 89 # of alpha vectors: 2\n",
      "Level 90 # of alpha vectors: 2\n",
      "Level 91 # of alpha vectors: 2\n",
      "Level 92 # of alpha vectors: 2\n",
      "Level 93 # of alpha vectors: 2\n",
      "Level 94 # of alpha vectors: 2\n",
      "Level 95 # of alpha vectors: 2\n",
      "Level 96 # of alpha vectors: 2\n",
      "Level 97 # of alpha vectors: 2\n",
      "Level 98 # of alpha vectors: 2\n",
      "Level 99 # of alpha vectors: 2\n",
      "Level 100 # of alpha vectors: 2\n",
      "Level 101 # of alpha vectors: 2\n",
      "Level 102 # of alpha vectors: 2\n",
      "Level 103 # of alpha vectors: 2\n",
      "Level 104 # of alpha vectors: 2\n",
      "Level 105 # of alpha vectors: 2\n",
      "Level 106 # of alpha vectors: 2\n",
      "Level 107 # of alpha vectors: 2\n",
      "Level 108 # of alpha vectors: 2\n",
      "Level 109 # of alpha vectors: 2\n",
      "Level 110 # of alpha vectors: 2\n",
      "Level 111 # of alpha vectors: 2\n",
      "Level 112 # of alpha vectors: 2\n",
      "Level 113 # of alpha vectors: 2\n",
      "Level 114 # of alpha vectors: 2\n",
      "Level 115 # of alpha vectors: 2\n",
      "Level 116 # of alpha vectors: 2\n",
      "Level 117 # of alpha vectors: 2\n",
      "Level 118 # of alpha vectors: 2\n",
      "Level 119 # of alpha vectors: 2\n",
      "Level 120 # of alpha vectors: 2\n",
      "Level 121 # of alpha vectors: 2\n",
      "Level 122 # of alpha vectors: 2\n",
      "Level 123 # of alpha vectors: 2\n",
      "Level 124 # of alpha vectors: 2\n",
      "Level 125 # of alpha vectors: 2\n",
      "Level 126 # of alpha vectors: 2\n",
      "Level 127 # of alpha vectors: 2\n",
      "Level 128 # of alpha vectors: 2\n",
      "Level 129 # of alpha vectors: 2\n",
      "Level 130 # of alpha vectors: 2\n",
      "Level 131 # of alpha vectors: 2\n",
      "Level 132 # of alpha vectors: 2\n",
      "Level 133 # of alpha vectors: 2\n",
      "Level 134 # of alpha vectors: 2\n",
      "Level 135 # of alpha vectors: 2\n",
      "Level 136 # of alpha vectors: 2\n",
      "Level 137 # of alpha vectors: 2\n",
      "Level 138 # of alpha vectors: 2\n",
      "Level 139 # of alpha vectors: 2\n",
      "Level 140 # of alpha vectors: 2\n",
      "Level 141 # of alpha vectors: 2\n",
      "Level 142 # of alpha vectors: 2\n",
      "Level 143 # of alpha vectors: 2\n",
      "Level 144 # of alpha vectors: 2\n",
      "Level 145 # of alpha vectors: 2\n",
      "Level 146 # of alpha vectors: 2\n",
      "Level 147 # of alpha vectors: 2\n",
      "Level 148 # of alpha vectors: 2\n",
      "Level 149 # of alpha vectors: 2\n",
      "Level 150 # of alpha vectors: 2\n",
      "Level 151 # of alpha vectors: 2\n",
      "Level 152 # of alpha vectors: 2\n",
      "Level 153 # of alpha vectors: 2\n",
      "Level 154 # of alpha vectors: 2\n",
      "Level 155 # of alpha vectors: 2\n",
      "Level 156 # of alpha vectors: 2\n",
      "Level 157 # of alpha vectors: 2\n",
      "Level 158 # of alpha vectors: 2\n",
      "Level 159 # of alpha vectors: 2\n",
      "Level 160 # of alpha vectors: 2\n",
      "Level 161 # of alpha vectors: 2\n",
      "Level 162 # of alpha vectors: 2\n",
      "Level 163 # of alpha vectors: 2\n",
      "Level 164 # of alpha vectors: 2\n",
      "Level 165 # of alpha vectors: 2\n",
      "Level 166 # of alpha vectors: 2\n",
      "Level 167 # of alpha vectors: 2\n",
      "Level 168 # of alpha vectors: 2\n",
      "Level 169 # of alpha vectors: 2\n",
      "Level 170 # of alpha vectors: 2\n",
      "Level 171 # of alpha vectors: 2\n",
      "Level 172 # of alpha vectors: 2\n",
      "Level 173 # of alpha vectors: 2\n",
      "Level 174 # of alpha vectors: 2\n",
      "Level 175 # of alpha vectors: 2\n",
      "Level 176 # of alpha vectors: 2\n",
      "Level 177 # of alpha vectors: 2\n",
      "Level 178 # of alpha vectors: 2\n",
      "Level 179 # of alpha vectors: 2\n",
      "Level 180 # of alpha vectors: 2\n",
      "Level 181 # of alpha vectors: 2\n",
      "Level 182 # of alpha vectors: 2\n",
      "Level 183 # of alpha vectors: 2\n",
      "Level 184 # of alpha vectors: 2\n",
      "Level 185 # of alpha vectors: 2\n",
      "Level 186 # of alpha vectors: 2\n",
      "Level 187 # of alpha vectors: 2\n",
      "Level 188 # of alpha vectors: 2\n",
      "Level 189 # of alpha vectors: 2\n",
      "Level 190 # of alpha vectors: 2\n",
      "Level 191 # of alpha vectors: 2\n",
      "Level 192 # of alpha vectors: 2\n",
      "Level 193 # of alpha vectors: 2\n",
      "Level 194 # of alpha vectors: 2\n",
      "Level 195 # of alpha vectors: 2\n",
      "Level 196 # of alpha vectors: 2\n",
      "Level 197 # of alpha vectors: 2\n",
      "Level 198 # of alpha vectors: 2\n",
      "Level 199 # of alpha vectors: 2\n",
      "Level 200 # of alpha vectors: 2\n"
     ]
    }
   ],
   "source": [
    "pomdpAgent.reset()\n",
    "pomdpAgent.value_iteration(model, 200, prune=True)\n",
    "exact_vectors = pomdpAgent.gamma"
   ]
  },
  {
   "cell_type": "code",
   "execution_count": 8,
   "metadata": {},
   "outputs": [
    {
     "name": "stdout",
     "output_type": "stream",
     "text": [
      "feed [-19.67493495 -29.67493495]\n",
      "not-feed [-16.30548328 -38.2511624 ]\n"
     ]
    },
    {
     "data": {
      "image/png": "[encoded data removed]",
      "text/plain": [
       "<Figure size 432x288 with 1 Axes>"
      ]
     },
     "metadata": {
      "needs_background": "light"
     },
     "output_type": "display_data"
    }
   ],
   "source": [
    "model.show_alpha_vector(pomdpAgent.gamma)\n",
    "model.plot_alpha_vector(pomdpAgent.gamma)"
   ]
  },
  {
   "cell_type": "markdown",
   "metadata": {},
   "source": [
    "### QMDP approximation"
   ]
  },
  {
   "cell_type": "code",
   "execution_count": 9,
   "metadata": {},
   "outputs": [
    {
     "name": "stdout",
     "output_type": "stream",
     "text": [
      "Iteration 0 value difference 30.000000\n",
      "Iteration 1 value difference 9.900000\n",
      "Iteration 2 value difference 7.299000\n",
      "Iteration 3 value difference 3.879090\n",
      "Iteration 4 value difference 3.733282\n",
      "Iteration 5 value difference 3.338165\n",
      "Iteration 6 value difference 3.006309\n",
      "Iteration 7 value difference 2.705502\n",
      "Iteration 8 value difference 2.434967\n",
      "Iteration 9 value difference 2.191469\n",
      "Iteration 10 value difference 1.972323\n",
      "Iteration 11 value difference 1.775090\n",
      "Iteration 12 value difference 1.597581\n",
      "Iteration 13 value difference 1.437823\n",
      "Iteration 14 value difference 1.294041\n",
      "Iteration 15 value difference 1.164637\n",
      "Iteration 16 value difference 1.048173\n",
      "Iteration 17 value difference 0.943356\n",
      "Iteration 18 value difference 0.849020\n",
      "Iteration 19 value difference 0.764118\n",
      "Iteration 20 value difference 0.687706\n",
      "Iteration 21 value difference 0.618936\n",
      "Iteration 22 value difference 0.557042\n",
      "Iteration 23 value difference 0.501338\n",
      "Iteration 24 value difference 0.451204\n",
      "Iteration 25 value difference 0.406084\n",
      "Iteration 26 value difference 0.365475\n",
      "Iteration 27 value difference 0.328928\n",
      "Iteration 28 value difference 0.296035\n",
      "Iteration 29 value difference 0.266432\n",
      "Iteration 30 value difference 0.239788\n",
      "Iteration 31 value difference 0.215810\n",
      "Iteration 32 value difference 0.194229\n",
      "Iteration 33 value difference 0.174806\n",
      "Iteration 34 value difference 0.157325\n",
      "Iteration 35 value difference 0.141593\n",
      "Iteration 36 value difference 0.127433\n",
      "Iteration 37 value difference 0.114690\n",
      "Iteration 38 value difference 0.103221\n",
      "Iteration 39 value difference 0.092899\n",
      "Iteration 40 value difference 0.083609\n",
      "Iteration 41 value difference 0.075248\n",
      "Iteration 42 value difference 0.067723\n",
      "Iteration 43 value difference 0.060951\n",
      "Iteration 44 value difference 0.054856\n",
      "Iteration 45 value difference 0.049370\n",
      "Iteration 46 value difference 0.044433\n",
      "Iteration 47 value difference 0.039990\n",
      "Iteration 48 value difference 0.035991\n",
      "Iteration 49 value difference 0.032392\n",
      "Iteration 50 value difference 0.029153\n",
      "Iteration 51 value difference 0.026237\n",
      "Iteration 52 value difference 0.023614\n",
      "Iteration 53 value difference 0.021252\n",
      "Iteration 54 value difference 0.019127\n",
      "Iteration 55 value difference 0.017214\n",
      "Iteration 56 value difference 0.015493\n",
      "Iteration 57 value difference 0.013944\n",
      "Iteration 58 value difference 0.012549\n",
      "Iteration 59 value difference 0.011294\n",
      "Iteration 60 value difference 0.010165\n",
      "Iteration 61 value difference 0.009148\n",
      "Iteration 62 value difference 0.008234\n",
      "Iteration 63 value difference 0.007410\n",
      "Iteration 64 value difference 0.006669\n",
      "Iteration 65 value difference 0.006002\n",
      "Iteration 66 value difference 0.005402\n",
      "Iteration 67 value difference 0.004862\n",
      "Iteration 68 value difference 0.004376\n",
      "Iteration 69 value difference 0.003938\n",
      "Iteration 70 value difference 0.003544\n",
      "Iteration 71 value difference 0.003190\n",
      "Iteration 72 value difference 0.002871\n",
      "Iteration 73 value difference 0.002584\n",
      "Iteration 74 value difference 0.002325\n",
      "Iteration 75 value difference 0.002093\n",
      "Iteration 76 value difference 0.001884\n",
      "Iteration 77 value difference 0.001695\n",
      "Iteration 78 value difference 0.001526\n",
      "Iteration 79 value difference 0.001373\n",
      "Iteration 80 value difference 0.001236\n",
      "Iteration 81 value difference 0.001112\n",
      "Iteration 82 value difference 0.001001\n",
      "Iteration 83 value difference 0.000901\n",
      "Iteration 84 value difference 0.000811\n",
      "Iteration 85 value difference 0.000730\n",
      "Iteration 86 value difference 0.000657\n",
      "Iteration 87 value difference 0.000591\n",
      "Iteration 88 value difference 0.000532\n",
      "Iteration 89 value difference 0.000479\n",
      "Iteration 90 value difference 0.000431\n",
      "Iteration 91 value difference 0.000388\n",
      "Iteration 92 value difference 0.000349\n",
      "Iteration 93 value difference 0.000314\n",
      "Iteration 94 value difference 0.000283\n",
      "Iteration 95 value difference 0.000254\n",
      "Iteration 96 value difference 0.000229\n",
      "Iteration 97 value difference 0.000206\n",
      "Iteration 98 value difference 0.000185\n",
      "Iteration 99 value difference 0.000167\n",
      "Iteration 100 value difference 0.000150\n",
      "Iteration 101 value difference 0.000135\n",
      "Iteration 102 value difference 0.000122\n",
      "Iteration 103 value difference 0.000110\n",
      "Iteration 104 value difference 0.000099\n",
      "Iteration 105 value difference 0.000089\n",
      "Iteration 106 value difference 0.000080\n",
      "Iteration 107 value difference 0.000072\n",
      "Iteration 108 value difference 0.000065\n",
      "Iteration 109 value difference 0.000058\n",
      "Iteration 110 value difference 0.000052\n",
      "Iteration 111 value difference 0.000047\n",
      "Iteration 112 value difference 0.000042\n",
      "Iteration 113 value difference 0.000038\n",
      "Iteration 114 value difference 0.000034\n",
      "Iteration 115 value difference 0.000031\n",
      "Iteration 116 value difference 0.000028\n",
      "Iteration 117 value difference 0.000025\n",
      "Iteration 118 value difference 0.000023\n",
      "Iteration 119 value difference 0.000020\n",
      "Iteration 120 value difference 0.000018\n",
      "Iteration 121 value difference 0.000016\n",
      "Iteration 122 value difference 0.000015\n",
      "Iteration 123 value difference 0.000013\n",
      "Iteration 124 value difference 0.000012\n",
      "Iteration 125 value difference 0.000011\n",
      "Iteration 126 value difference 0.000010\n"
     ]
    }
   ],
   "source": [
    "pomdpAgent.reset()\n",
    "pomdpAgent.qmdp(model)\n",
    "qmdp_vectors = pomdpAgent.gamma"
   ]
  },
  {
   "cell_type": "code",
   "execution_count": 10,
   "metadata": {},
   "outputs": [
    {
     "name": "stdout",
     "output_type": "stream",
     "text": [
      "not-feed [-12.38529926 -33.53208825]\n",
      "feed [-16.14676715 -26.14676715]\n"
     ]
    },
    {
     "data": {
      "image/png": "[encoded data removed]",
      "text/plain": [
       "<Figure size 432x288 with 1 Axes>"
      ]
     },
     "metadata": {
      "needs_background": "light"
     },
     "output_type": "display_data"
    }
   ],
   "source": [
    "model.show_alpha_vector(pomdpAgent.gamma)\n",
    "model.plot_alpha_vector(pomdpAgent.gamma)"
   ]
  },
  {
   "cell_type": "markdown",
   "metadata": {},
   "source": [
    "### Fast informed bound"
   ]
  },
  {
   "cell_type": "code",
   "execution_count": 11,
   "metadata": {},
   "outputs": [
    {
     "name": "stdout",
     "output_type": "stream",
     "text": [
      "Iteration 0 value difference 30.000000\n",
      "Iteration 1 value difference 9.900000\n",
      "Iteration 2 value difference 7.659000\n",
      "Iteration 3 value difference 4.870161\n",
      "Iteration 4 value difference 4.938793\n",
      "Iteration 5 value difference 4.418390\n",
      "Iteration 6 value difference 3.972085\n",
      "Iteration 7 value difference 3.576070\n",
      "Iteration 8 value difference 3.218331\n",
      "Iteration 9 value difference 2.896501\n",
      "Iteration 10 value difference 2.606853\n",
      "Iteration 11 value difference 2.346167\n",
      "Iteration 12 value difference 2.111551\n",
      "Iteration 13 value difference 1.900395\n",
      "Iteration 14 value difference 1.710356\n",
      "Iteration 15 value difference 1.539320\n",
      "Iteration 16 value difference 1.385388\n",
      "Iteration 17 value difference 1.246849\n",
      "Iteration 18 value difference 1.122165\n",
      "Iteration 19 value difference 1.009948\n",
      "Iteration 20 value difference 0.908953\n",
      "Iteration 21 value difference 0.818058\n",
      "Iteration 22 value difference 0.736252\n",
      "Iteration 23 value difference 0.662627\n",
      "Iteration 24 value difference 0.596364\n",
      "Iteration 25 value difference 0.536728\n",
      "Iteration 26 value difference 0.483055\n",
      "Iteration 27 value difference 0.434750\n",
      "Iteration 28 value difference 0.391275\n",
      "Iteration 29 value difference 0.352147\n",
      "Iteration 30 value difference 0.316932\n",
      "Iteration 31 value difference 0.285239\n",
      "Iteration 32 value difference 0.256715\n",
      "Iteration 33 value difference 0.231044\n",
      "Iteration 34 value difference 0.207939\n",
      "Iteration 35 value difference 0.187145\n",
      "Iteration 36 value difference 0.168431\n",
      "Iteration 37 value difference 0.151588\n",
      "Iteration 38 value difference 0.136429\n",
      "Iteration 39 value difference 0.122786\n",
      "Iteration 40 value difference 0.110507\n",
      "Iteration 41 value difference 0.099457\n",
      "Iteration 42 value difference 0.089511\n",
      "Iteration 43 value difference 0.080560\n",
      "Iteration 44 value difference 0.072504\n",
      "Iteration 45 value difference 0.065254\n",
      "Iteration 46 value difference 0.058728\n",
      "Iteration 47 value difference 0.052855\n",
      "Iteration 48 value difference 0.047570\n",
      "Iteration 49 value difference 0.042813\n",
      "Iteration 50 value difference 0.038532\n",
      "Iteration 51 value difference 0.034678\n",
      "Iteration 52 value difference 0.031211\n",
      "Iteration 53 value difference 0.028090\n",
      "Iteration 54 value difference 0.025281\n",
      "Iteration 55 value difference 0.022753\n",
      "Iteration 56 value difference 0.020477\n",
      "Iteration 57 value difference 0.018430\n",
      "Iteration 58 value difference 0.016587\n",
      "Iteration 59 value difference 0.014928\n",
      "Iteration 60 value difference 0.013435\n",
      "Iteration 61 value difference 0.012092\n",
      "Iteration 62 value difference 0.010882\n",
      "Iteration 63 value difference 0.009794\n",
      "Iteration 64 value difference 0.008815\n",
      "Iteration 65 value difference 0.007933\n",
      "Iteration 66 value difference 0.007140\n",
      "Iteration 67 value difference 0.006426\n",
      "Iteration 68 value difference 0.005783\n",
      "Iteration 69 value difference 0.005205\n",
      "Iteration 70 value difference 0.004685\n",
      "Iteration 71 value difference 0.004216\n",
      "Iteration 72 value difference 0.003794\n",
      "Iteration 73 value difference 0.003415\n",
      "Iteration 74 value difference 0.003074\n",
      "Iteration 75 value difference 0.002766\n",
      "Iteration 76 value difference 0.002490\n",
      "Iteration 77 value difference 0.002241\n",
      "Iteration 78 value difference 0.002017\n",
      "Iteration 79 value difference 0.001815\n",
      "Iteration 80 value difference 0.001633\n",
      "Iteration 81 value difference 0.001470\n",
      "Iteration 82 value difference 0.001323\n",
      "Iteration 83 value difference 0.001191\n",
      "Iteration 84 value difference 0.001072\n",
      "Iteration 85 value difference 0.000965\n",
      "Iteration 86 value difference 0.000868\n",
      "Iteration 87 value difference 0.000781\n",
      "Iteration 88 value difference 0.000703\n",
      "Iteration 89 value difference 0.000633\n",
      "Iteration 90 value difference 0.000570\n",
      "Iteration 91 value difference 0.000513\n",
      "Iteration 92 value difference 0.000461\n",
      "Iteration 93 value difference 0.000415\n",
      "Iteration 94 value difference 0.000374\n",
      "Iteration 95 value difference 0.000336\n",
      "Iteration 96 value difference 0.000303\n",
      "Iteration 97 value difference 0.000272\n",
      "Iteration 98 value difference 0.000245\n",
      "Iteration 99 value difference 0.000221\n",
      "Iteration 100 value difference 0.000199\n",
      "Iteration 101 value difference 0.000179\n",
      "Iteration 102 value difference 0.000161\n",
      "Iteration 103 value difference 0.000145\n",
      "Iteration 104 value difference 0.000130\n",
      "Iteration 105 value difference 0.000117\n",
      "Iteration 106 value difference 0.000106\n",
      "Iteration 107 value difference 0.000095\n",
      "Iteration 108 value difference 0.000085\n",
      "Iteration 109 value difference 0.000077\n",
      "Iteration 110 value difference 0.000069\n",
      "Iteration 111 value difference 0.000062\n",
      "Iteration 112 value difference 0.000056\n",
      "Iteration 113 value difference 0.000050\n",
      "Iteration 114 value difference 0.000045\n",
      "Iteration 115 value difference 0.000041\n",
      "Iteration 116 value difference 0.000037\n",
      "Iteration 117 value difference 0.000033\n",
      "Iteration 118 value difference 0.000030\n",
      "Iteration 119 value difference 0.000027\n",
      "Iteration 120 value difference 0.000024\n",
      "Iteration 121 value difference 0.000022\n",
      "Iteration 122 value difference 0.000020\n",
      "Iteration 123 value difference 0.000018\n",
      "Iteration 124 value difference 0.000016\n",
      "Iteration 125 value difference 0.000014\n",
      "Iteration 126 value difference 0.000013\n",
      "Iteration 127 value difference 0.000012\n",
      "Iteration 128 value difference 0.000010\n",
      "Iteration 129 value difference 0.000009\n"
     ]
    }
   ],
   "source": [
    "pomdpAgent.reset()\n",
    "pomdpAgent.fib(model)\n",
    "fib_vectors = pomdpAgent.gamma.copy()"
   ]
  },
  {
   "cell_type": "code",
   "execution_count": 12,
   "metadata": {},
   "outputs": [
    {
     "name": "stdout",
     "output_type": "stream",
     "text": [
      "not-feed [-16.07140753 -36.5178361 ]\n",
      "feed [-19.46426467 -29.46426467]\n"
     ]
    },
    {
     "data": {
      "image/png": "[encoded data removed]",
      "text/plain": [
       "<Figure size 432x288 with 1 Axes>"
      ]
     },
     "metadata": {
      "needs_background": "light"
     },
     "output_type": "display_data"
    }
   ],
   "source": [
    "model.show_alpha_vector(pomdpAgent.gamma)\n",
    "model.plot_alpha_vector(pomdpAgent.gamma)"
   ]
  },
  {
   "cell_type": "code",
   "execution_count": 13,
   "metadata": {},
   "outputs": [],
   "source": [
    "import matplotlib.pylab as plt"
   ]
  },
  {
   "cell_type": "code",
   "execution_count": 14,
   "metadata": {},
   "outputs": [
    {
     "data": {
      "text/plain": [
       "<matplotlib.legend.Legend at 0x1016f84ed0>"
      ]
     },
     "execution_count": 14,
     "metadata": {},
     "output_type": "execute_result"
    },
    {
     "data": {
      "image/png": "[encoded data removed]",
      "text/plain": [
       "<Figure size 432x288 with 1 Axes>"
      ]
     },
     "metadata": {
      "needs_background": "light"
     },
     "output_type": "display_data"
    }
   ],
   "source": [
    "for av in exact_vectors:\n",
    "    plt.plot([0, 1], av.value, label='Optimal %s' %model.actions[av.action])\n",
    "\n",
    "for av in qmdp_vectors:\n",
    "    plt.plot([0, 1], av.value, ls='--', label='QMDP %s' %model.actions[av.action])\n",
    "\n",
    "for av in fib_vectors:\n",
    "    plt.plot([0, 1], av.value, ls='-.', label='FIB %s' %model.actions[av.action])\n",
    "\n",
    "plt.xlabel('P(%s)' % model.states[1])\n",
    "plt.legend(loc='center left', bbox_to_anchor=(1, 0.5))"
   ]
  },
  {
   "cell_type": "code",
   "execution_count": 15,
   "metadata": {},
   "outputs": [],
   "source": [
    "belief = np.ones(model.n_states) / model.n_states\n",
    "av = pomdpAgent.backup_belief(model, belief)"
   ]
  },
  {
   "cell_type": "code",
   "execution_count": 16,
   "metadata": {},
   "outputs": [
    {
     "data": {
      "text/plain": [
       "(1, array([-19.46426677, -29.46426677]))"
      ]
     },
     "execution_count": 16,
     "metadata": {},
     "output_type": "execute_result"
    }
   ],
   "source": [
    "av.action, av.value"
   ]
  }
 ],
 "metadata": {
  "@webio": {
   "lastCommId": null,
   "lastKernelId": null
  },
  "file_extension": ".py",
  "kernelspec": {
   "display_name": "Python 3.7.4 64-bit ('base': conda)",
   "language": "python",
   "name": "python37464bitbasecondaf7267ca7d4b34cc89272181b3b23a81d"
  },
  "language_info": {
   "codemirror_mode": {
    "name": "ipython",
    "version": 3
   },
   "file_extension": ".py",
   "mimetype": "text/x-python",
   "name": "python",
   "nbconvert_exporter": "python",
   "pygments_lexer": "ipython3",
   "version": "3.7.4"
  },
  "mimetype": "text/x-python",
  "name": "python",
  "npconvert_exporter": "python",
  "pygments_lexer": "ipython3",
  "version": 3
 },
 "nbformat": 4,
 "nbformat_minor": 2
}