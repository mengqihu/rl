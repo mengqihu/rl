{
 "cells": [
  {
   "cell_type": "markdown",
   "metadata": {},
   "source": [
    "## Exploration and Exploitation"
   ]
  },
  {
   "cell_type": "code",
   "execution_count": 1,
   "metadata": {},
   "outputs": [],
   "source": [
    "import numpy as np\n",
    "import pandas as pd\n",
    "from scipy.stats import beta\n",
    "from bandit import Bandit, EpsGreedyPolicy, SoftmaxPolicy, IntervalPolicy"
   ]
  },
  {
   "cell_type": "markdown",
   "metadata": {},
   "source": [
    "### Multi-armed bandit problems"
   ]
  },
  {
   "cell_type": "code",
   "execution_count": 2,
   "metadata": {},
   "outputs": [],
   "source": [
    "theta = np.linspace(0.1, 0.9, 5)\n",
    "bandit = Bandit(theta)\n",
    "\n",
    "epsGreedyPolicy = EpsGreedyPolicy(0.2)\n",
    "softmaxPolicy = SoftmaxPolicy(10)\n",
    "intervalPolicy = IntervalPolicy(0.9)"
   ]
  },
  {
   "cell_type": "code",
   "execution_count": 3,
   "metadata": {},
   "outputs": [],
   "source": [
    "max_iter = 100\n",
    "steps = 50\n",
    "\n",
    "epsGreedyResults = np.zeros(steps)\n",
    "softmaxResults = np.zeros(steps)\n",
    "intervalResults = np.zeros(steps)\n",
    "\n",
    "for iter in range(max_iter):\n",
    "    bandit.reset()\n",
    "    epsGreedyResults += bandit.simulate(policy=epsGreedyPolicy, steps=steps)\n",
    "    \n",
    "    bandit.reset()\n",
    "    softmaxResults += bandit.simulate(policy=softmaxPolicy, steps=steps)\n",
    "    \n",
    "    bandit.reset()\n",
    "    intervalResults += bandit.simulate(policy=intervalPolicy, steps=steps)\n",
    "\n",
    "epsGreedyResults = epsGreedyResults / np.arange(1, steps+1) / max_iter\n",
    "softmaxResults = softmaxResults / np.arange(1, steps+1) / max_iter\n",
    "intervalResults = intervalResults / np.arange(1, steps+1) / max_iter\n",
    "\n",
    "df = pd.DataFrame()\n",
    "df['epsGreedy'] = epsGreedyResults\n",
    "df['softMax'] = softmaxResults\n",
    "df['interval'] = intervalResults\n",
    "# df.to_csv('bandit.csv', index=False)"
   ]
  },
  {
   "cell_type": "code",
   "execution_count": 4,
   "metadata": {},
   "outputs": [],
   "source": [
    "import matplotlib.pylab as plt"
   ]
  },
  {
   "cell_type": "code",
   "execution_count": 5,
   "metadata": {},
   "outputs": [
    {
     "data": {
      "text/plain": [
       "<matplotlib.legend.Legend at 0x1a19b0a4d0>"
      ]
     },
     "execution_count": 5,
     "metadata": {},
     "output_type": "execute_result"
    },
    {
     "data": {
      "image/png": "[encoded data removed]",
      "text/plain": [
       "<Figure size 432x288 with 1 Axes>"
      ]
     },
     "metadata": {
      "needs_background": "light"
     },
     "output_type": "display_data"
    }
   ],
   "source": [
    "x = np.arange(1, steps+1)\n",
    "plt.plot(x, epsGreedyResults, 'r', x, softmaxResults, 'b', x, intervalResults, 'g')\n",
    "plt.legend(['$\\epsilon$-greedy ($\\epsilon=0.2$)', 'Softmax ($\\lambda=10$)', 'Interval ($\\\\alpha=0.9$)'])"
   ]
  },
  {
   "cell_type": "markdown",
   "metadata": {},
   "source": [
    "## Model-Based Reinforcement Learning"
   ]
  },
  {
   "cell_type": "code",
   "execution_count": 6,
   "metadata": {},
   "outputs": [],
   "source": [
    "from mdpagent import MDP, ModelRLAgent\n",
    "from environment import GridWorld5x5, GridWorld10x10, GridWorld3x4"
   ]
  },
  {
   "cell_type": "code",
   "execution_count": 7,
   "metadata": {},
   "outputs": [],
   "source": [
    "actions = ['left', 'up', 'right', 'down']\n",
    "# env = GridWorld5x5(actions)\n",
    "# env = GridWorld10x10(actions)\n",
    "env = GridWorld3x4(actions)"
   ]
  },
  {
   "cell_type": "code",
   "execution_count": 8,
   "metadata": {},
   "outputs": [
    {
     "name": "stderr",
     "output_type": "stream",
     "text": [
      "100%|██████████| 2000/2000 [00:01<00:00, 1243.52it/s]\n"
     ]
    }
   ],
   "source": [
    "model = MDP(env.n_states, env.n_actions)\n",
    "model.reset()\n",
    "\n",
    "mrlAgent = ModelRLAgent(env.n_states, env.n_actions, env.action_sets, epsilon=0.2)\n",
    "mrlAgent.run_episodes(env, model, n_episodes=2000, n_steps=1000)"
   ]
  },
  {
   "cell_type": "code",
   "execution_count": 9,
   "metadata": {},
   "outputs": [
    {
     "data": {
      "text/html": [
       "<div>\n",
       "<style scoped>\n",
       "    .dataframe tbody tr th:only-of-type {\n",
       "        vertical-align: middle;\n",
       "    }\n",
       "\n",
       "    .dataframe tbody tr th {\n",
       "        vertical-align: top;\n",
       "    }\n",
       "\n",
       "    .dataframe thead th {\n",
       "        text-align: right;\n",
       "    }\n",
       "</style>\n",
       "<table border=\"1\" class=\"dataframe\">\n",
       "  <thead>\n",
       "    <tr style=\"text-align: right;\">\n",
       "      <th></th>\n",
       "      <th>0</th>\n",
       "      <th>1</th>\n",
       "      <th>2</th>\n",
       "      <th>3</th>\n",
       "    </tr>\n",
       "  </thead>\n",
       "  <tbody>\n",
       "    <tr>\n",
       "      <td>0</td>\n",
       "      <td>0.648841</td>\n",
       "      <td>0.750001</td>\n",
       "      <td>0.854420</td>\n",
       "      <td>1.000000</td>\n",
       "    </tr>\n",
       "    <tr>\n",
       "      <td>1</td>\n",
       "      <td>0.569829</td>\n",
       "      <td>0.000000</td>\n",
       "      <td>0.615377</td>\n",
       "      <td>-1.000000</td>\n",
       "    </tr>\n",
       "    <tr>\n",
       "      <td>2</td>\n",
       "      <td>0.495062</td>\n",
       "      <td>0.444919</td>\n",
       "      <td>0.507880</td>\n",
       "      <td>0.280798</td>\n",
       "    </tr>\n",
       "  </tbody>\n",
       "</table>\n",
       "</div>"
      ],
      "text/plain": [
       "          0         1         2         3\n",
       "0  0.648841  0.750001  0.854420  1.000000\n",
       "1  0.569829  0.000000  0.615377 -1.000000\n",
       "2  0.495062  0.444919  0.507880  0.280798"
      ]
     },
     "execution_count": 9,
     "metadata": {},
     "output_type": "execute_result"
    }
   ],
   "source": [
    "df = env.show_state_value(mrlAgent.U)\n",
    "df"
   ]
  },
  {
   "cell_type": "code",
   "execution_count": 10,
   "metadata": {},
   "outputs": [
    {
     "data": {
      "text/html": [
       "<div>\n",
       "<style scoped>\n",
       "    .dataframe tbody tr th:only-of-type {\n",
       "        vertical-align: middle;\n",
       "    }\n",
       "\n",
       "    .dataframe tbody tr th {\n",
       "        vertical-align: top;\n",
       "    }\n",
       "\n",
       "    .dataframe thead th {\n",
       "        text-align: right;\n",
       "    }\n",
       "</style>\n",
       "<table border=\"1\" class=\"dataframe\">\n",
       "  <thead>\n",
       "    <tr style=\"text-align: right;\">\n",
       "      <th></th>\n",
       "      <th>0</th>\n",
       "      <th>1</th>\n",
       "      <th>2</th>\n",
       "      <th>3</th>\n",
       "    </tr>\n",
       "  </thead>\n",
       "  <tbody>\n",
       "    <tr>\n",
       "      <td>0</td>\n",
       "      <td>right</td>\n",
       "      <td>right</td>\n",
       "      <td>right</td>\n",
       "      <td>left</td>\n",
       "    </tr>\n",
       "    <tr>\n",
       "      <td>1</td>\n",
       "      <td>up</td>\n",
       "      <td>left</td>\n",
       "      <td>up</td>\n",
       "      <td>left</td>\n",
       "    </tr>\n",
       "    <tr>\n",
       "      <td>2</td>\n",
       "      <td>up</td>\n",
       "      <td>right</td>\n",
       "      <td>up</td>\n",
       "      <td>left</td>\n",
       "    </tr>\n",
       "  </tbody>\n",
       "</table>\n",
       "</div>"
      ],
      "text/plain": [
       "       0      1      2     3\n",
       "0  right  right  right  left\n",
       "1     up   left     up  left\n",
       "2     up  right     up  left"
      ]
     },
     "execution_count": 10,
     "metadata": {},
     "output_type": "execute_result"
    }
   ],
   "source": [
    "mrlAgent.extract_policy()\n",
    "df = env.show_policy(mrlAgent.pi)\n",
    "df"
   ]
  },
  {
   "cell_type": "markdown",
   "metadata": {},
   "source": [
    "## Monte Carlo Policy Iteration"
   ]
  },
  {
   "cell_type": "code",
   "execution_count": 11,
   "metadata": {},
   "outputs": [],
   "source": [
    "from environment import RandomWalk\n",
    "from mdpagent import MonteCarloRLAgent\n",
    "\n",
    "actions = ['left', 'right']\n",
    "env = RandomWalk(actions)"
   ]
  },
  {
   "cell_type": "code",
   "execution_count": 12,
   "metadata": {},
   "outputs": [
    {
     "name": "stderr",
     "output_type": "stream",
     "text": [
      "100%|██████████| 1000/1000 [00:00<00:00, 7474.12it/s]\n"
     ]
    },
    {
     "data": {
      "text/html": [
       "<div>\n",
       "<style scoped>\n",
       "    .dataframe tbody tr th:only-of-type {\n",
       "        vertical-align: middle;\n",
       "    }\n",
       "\n",
       "    .dataframe tbody tr th {\n",
       "        vertical-align: top;\n",
       "    }\n",
       "\n",
       "    .dataframe thead th {\n",
       "        text-align: right;\n",
       "    }\n",
       "</style>\n",
       "<table border=\"1\" class=\"dataframe\">\n",
       "  <thead>\n",
       "    <tr style=\"text-align: right;\">\n",
       "      <th></th>\n",
       "      <th>0</th>\n",
       "      <th>1</th>\n",
       "      <th>2</th>\n",
       "      <th>3</th>\n",
       "      <th>4</th>\n",
       "    </tr>\n",
       "  </thead>\n",
       "  <tbody>\n",
       "    <tr>\n",
       "      <td>0</td>\n",
       "      <td>0.167728</td>\n",
       "      <td>0.330841</td>\n",
       "      <td>0.495296</td>\n",
       "      <td>0.655863</td>\n",
       "      <td>0.83218</td>\n",
       "    </tr>\n",
       "  </tbody>\n",
       "</table>\n",
       "</div>"
      ],
      "text/plain": [
       "          0         1         2         3        4\n",
       "0  0.167728  0.330841  0.495296  0.655863  0.83218"
      ]
     },
     "execution_count": 12,
     "metadata": {},
     "output_type": "execute_result"
    }
   ],
   "source": [
    "mcAgent = MonteCarloRLAgent(env.n_states, env.n_actions, env.action_sets, discount=1, epsilon=0.2, alpha=0.1)\n",
    "\n",
    "pi = np.ones((env.n_states, env.n_actions)) / env.n_actions\n",
    "mcAgent.iterative_policy_evaluation(1000, 100, env, pi, method='every-visit')\n",
    "env.show_state_value(mcAgent.U)"
   ]
  },
  {
   "cell_type": "code",
   "execution_count": 13,
   "metadata": {},
   "outputs": [
    {
     "name": "stderr",
     "output_type": "stream",
     "text": [
      "100%|██████████| 1000/1000 [00:00<00:00, 9260.11it/s]\n"
     ]
    },
    {
     "data": {
      "text/html": [
       "<div>\n",
       "<style scoped>\n",
       "    .dataframe tbody tr th:only-of-type {\n",
       "        vertical-align: middle;\n",
       "    }\n",
       "\n",
       "    .dataframe tbody tr th {\n",
       "        vertical-align: top;\n",
       "    }\n",
       "\n",
       "    .dataframe thead th {\n",
       "        text-align: right;\n",
       "    }\n",
       "</style>\n",
       "<table border=\"1\" class=\"dataframe\">\n",
       "  <thead>\n",
       "    <tr style=\"text-align: right;\">\n",
       "      <th></th>\n",
       "      <th>0</th>\n",
       "      <th>1</th>\n",
       "      <th>2</th>\n",
       "      <th>3</th>\n",
       "      <th>4</th>\n",
       "    </tr>\n",
       "  </thead>\n",
       "  <tbody>\n",
       "    <tr>\n",
       "      <td>0</td>\n",
       "      <td>0.857143</td>\n",
       "      <td>0.980952</td>\n",
       "      <td>0.99384</td>\n",
       "      <td>0.998968</td>\n",
       "      <td>1.0</td>\n",
       "    </tr>\n",
       "  </tbody>\n",
       "</table>\n",
       "</div>"
      ],
      "text/plain": [
       "          0         1        2         3    4\n",
       "0  0.857143  0.980952  0.99384  0.998968  1.0"
      ]
     },
     "execution_count": 13,
     "metadata": {},
     "output_type": "execute_result"
    }
   ],
   "source": [
    "mcAgent.reset()\n",
    "mcAgent.policy_iteration(1000, 100, env, method='first-visit')\n",
    "env.show_state_value(mcAgent.U)"
   ]
  },
  {
   "cell_type": "markdown",
   "metadata": {},
   "source": [
    "## Temporal Difference Learning"
   ]
  },
  {
   "cell_type": "code",
   "execution_count": 14,
   "metadata": {},
   "outputs": [],
   "source": [
    "from mdpagent import TDLearningAgent"
   ]
  },
  {
   "cell_type": "code",
   "execution_count": 15,
   "metadata": {},
   "outputs": [],
   "source": [
    "actions = ['left', 'right']\n",
    "env = RandomWalk(actions)\n",
    "\n",
    "pi = np.ones((env.n_states, env.n_actions)) / env.n_actions"
   ]
  },
  {
   "cell_type": "code",
   "execution_count": 16,
   "metadata": {},
   "outputs": [
    {
     "name": "stderr",
     "output_type": "stream",
     "text": [
      "100%|██████████| 1000/1000 [00:00<00:00, 10782.27it/s]\n"
     ]
    },
    {
     "data": {
      "text/html": [
       "<div>\n",
       "<style scoped>\n",
       "    .dataframe tbody tr th:only-of-type {\n",
       "        vertical-align: middle;\n",
       "    }\n",
       "\n",
       "    .dataframe tbody tr th {\n",
       "        vertical-align: top;\n",
       "    }\n",
       "\n",
       "    .dataframe thead th {\n",
       "        text-align: right;\n",
       "    }\n",
       "</style>\n",
       "<table border=\"1\" class=\"dataframe\">\n",
       "  <thead>\n",
       "    <tr style=\"text-align: right;\">\n",
       "      <th></th>\n",
       "      <th>0</th>\n",
       "      <th>1</th>\n",
       "      <th>2</th>\n",
       "      <th>3</th>\n",
       "      <th>4</th>\n",
       "    </tr>\n",
       "  </thead>\n",
       "  <tbody>\n",
       "    <tr>\n",
       "      <td>0</td>\n",
       "      <td>0.238678</td>\n",
       "      <td>0.424768</td>\n",
       "      <td>0.585027</td>\n",
       "      <td>0.73745</td>\n",
       "      <td>0.860669</td>\n",
       "    </tr>\n",
       "  </tbody>\n",
       "</table>\n",
       "</div>"
      ],
      "text/plain": [
       "          0         1         2        3         4\n",
       "0  0.238678  0.424768  0.585027  0.73745  0.860669"
      ]
     },
     "execution_count": 16,
     "metadata": {},
     "output_type": "execute_result"
    }
   ],
   "source": [
    "tdlAgent = TDLearningAgent(env.n_states, env.n_actions, env.action_sets, discount=1, epsilon=0.2, alpha=0.1, verbose=True)\n",
    "tdlAgent.U = np.array([0.5, 0.5, 0.5, 0.5, 0.5, 0])\n",
    "values = tdlAgent.iterative_policy_evaluation(1000, 100, env, pi)\n",
    "env.show_state_value(tdlAgent.U)"
   ]
  },
  {
   "cell_type": "code",
   "execution_count": 17,
   "metadata": {},
   "outputs": [
    {
     "data": {
      "text/plain": [
       "<matplotlib.legend.Legend at 0x1a1a642e10>"
      ]
     },
     "execution_count": 17,
     "metadata": {},
     "output_type": "execute_result"
    },
    {
     "data": {
      "image/png": "[encoded data removed]",
      "text/plain": [
       "<Figure size 432x288 with 1 Axes>"
      ]
     },
     "metadata": {
      "needs_background": "light"
     },
     "output_type": "display_data"
    }
   ],
   "source": [
    "dim = env.n_nonterminal_states\n",
    "x = np.arange(dim)\n",
    "\n",
    "df = pd.DataFrame()\n",
    "df['state'] = range(1, 6)\n",
    "df['t0'] = [0.5, 0.5, 0.5, 0.5, 0.5]\n",
    "df['t1'] = values[0][0:dim]\n",
    "df['t10'] = values[9][0:dim]\n",
    "df['t100'] = values[-1][0:dim]\n",
    "df['true_value'] = [1/6, 2/6, 3/6, 4/6, 5/6]\n",
    "# df.to_csv('random_walk.csv', index=False)\n",
    "\n",
    "plt.plot(x, [0.5, 0.5, 0.5, 0.5, 0.5], color='b', label='initial value')\n",
    "plt.plot(x, values[0][0:dim], color='g', label='episode 1')\n",
    "plt.plot(x, values[9][0:dim], color='c', label='episode 10')\n",
    "plt.plot(x, values[-1][0:dim], color='k', label='episode 100')\n",
    "plt.plot(x, [1/6, 2/6, 3/6, 4/6, 5/6], color='r', label='true value')\n",
    "\n",
    "plt.xticks(x, (['a', 'b', 'c', 'd', 'e']))\n",
    "plt.xlabel('state')\n",
    "plt.ylabel('$U(s)$')\n",
    "plt.legend()"
   ]
  },
  {
   "cell_type": "code",
   "execution_count": 18,
   "metadata": {},
   "outputs": [],
   "source": [
    "from tqdm import tqdm\n",
    "\n",
    "def rms_error():\n",
    "    actions = np.array(['left', 'right'])\n",
    "    env = RandomWalk(actions)\n",
    "    true_values = np.array([1/6, 2/6, 3/6, 4/6, 5/6, 0])\n",
    "\n",
    "    td_alphas = [0.15, 0.1, 0.05]\n",
    "    mc_alphas = [0.01, 0.02, 0.03, 0.04]\n",
    "\n",
    "    n_episodes = 100\n",
    "    n_runs = 100\n",
    "\n",
    "    pi = np.ones((env.n_states, env.n_actions)) / env.n_actions\n",
    "\n",
    "    df = pd.DataFrame()\n",
    "\n",
    "    for i, alpha in enumerate(td_alphas + mc_alphas):\n",
    "        total_errors = np.zeros(n_episodes)\n",
    "\n",
    "        if i < len(td_alphas):\n",
    "            method = 'TD'\n",
    "            linestyle = 'solid'\n",
    "        else:\n",
    "            method = 'MC'\n",
    "            linestyle = 'dashdot'\n",
    "\n",
    "        for _ in tqdm(range(n_runs)):\n",
    "            if method == 'TD':\n",
    "                tdlAgent = TDLearningAgent(env.n_states, env.n_actions, env.action_sets, discount=1, epsilon=0.2, alpha=alpha, verbose=True)\n",
    "                tdlAgent.U = [0.5, 0.5, 0.5, 0.5, 0.5, 0]\n",
    "                values = tdlAgent.iterative_policy_evaluation(n_episodes, 100, env, pi, disable_bar=True)\n",
    "            else:\n",
    "                mcAgent = MonteCarloRLAgent(env.n_states, env.n_actions, env.action_sets, discount=1, epsilon=0.2, alpha=alpha, verbose=True)\n",
    "                mcAgent.U = [0.5, 0.5, 0.5, 0.5, 0.5, 0]\n",
    "                values = mcAgent.td_learning(n_episodes, 100, env, pi, disable_bar=True)\n",
    "\n",
    "            total_errors += np.sqrt(np.sum(np.power(values - true_values, 2) / 5, axis=1))\n",
    "        \n",
    "        total_errors /= n_runs\n",
    "        plt.plot(total_errors, linestyle=linestyle, label=method + ', alpha = %.02f' % (alpha))\n",
    "\n",
    "        df['%s%.2f' %(method, alpha)] = total_errors.copy()\n",
    "    \n",
    "    plt.xlabel('episodes')\n",
    "    plt.ylabel('RMS')\n",
    "    plt.legend()\n",
    "\n",
    "    return df"
   ]
  },
  {
   "cell_type": "code",
   "execution_count": 19,
   "metadata": {},
   "outputs": [
    {
     "name": "stderr",
     "output_type": "stream",
     "text": [
      "100%|██████████| 100/100 [00:01<00:00, 76.06it/s]\n",
      "100%|██████████| 100/100 [00:00<00:00, 105.57it/s]\n",
      "100%|██████████| 100/100 [00:00<00:00, 108.23it/s]\n",
      "100%|██████████| 100/100 [00:01<00:00, 68.45it/s]\n",
      "100%|██████████| 100/100 [00:01<00:00, 70.07it/s]\n",
      "100%|██████████| 100/100 [00:02<00:00, 37.99it/s]\n",
      "100%|██████████| 100/100 [00:02<00:00, 41.03it/s]\n"
     ]
    },
    {
     "data": {
      "image/png": "[encoded data removed]",
      "text/plain": [
       "<Figure size 432x288 with 1 Axes>"
      ]
     },
     "metadata": {
      "needs_background": "light"
     },
     "output_type": "display_data"
    }
   ],
   "source": [
    "df = rms_error()\n",
    "# df.to_csv('random_walk_mc_td.csv', index=False)"
   ]
  },
  {
   "cell_type": "markdown",
   "metadata": {},
   "source": [
    "## SARSA, Q-Learning\n"
   ]
  },
  {
   "cell_type": "code",
   "execution_count": 20,
   "metadata": {},
   "outputs": [],
   "source": [
    "from environment import CliffWalking\n",
    "\n",
    "actions = ['left', 'up', 'right', 'down']\n",
    "env = CliffWalking(actions)"
   ]
  },
  {
   "cell_type": "code",
   "execution_count": 21,
   "metadata": {},
   "outputs": [],
   "source": [
    "tdlAgent = TDLearningAgent(env.n_states, env.n_actions, env.action_sets, discount=1, epsilon=0.1, alpha=0.5)"
   ]
  },
  {
   "cell_type": "markdown",
   "metadata": {},
   "source": [
    "### Sarsa"
   ]
  },
  {
   "cell_type": "code",
   "execution_count": 22,
   "metadata": {},
   "outputs": [
    {
     "name": "stderr",
     "output_type": "stream",
     "text": [
      "100%|██████████| 500/500 [00:00<00:00, 1941.41it/s]\n"
     ]
    }
   ],
   "source": [
    "tdlAgent.reset()\n",
    "_ = tdlAgent.sarsa(500, 1000, env)"
   ]
  },
  {
   "cell_type": "code",
   "execution_count": 23,
   "metadata": {},
   "outputs": [
    {
     "data": {
      "text/html": [
       "<div>\n",
       "<style scoped>\n",
       "    .dataframe tbody tr th:only-of-type {\n",
       "        vertical-align: middle;\n",
       "    }\n",
       "\n",
       "    .dataframe tbody tr th {\n",
       "        vertical-align: top;\n",
       "    }\n",
       "\n",
       "    .dataframe thead th {\n",
       "        text-align: right;\n",
       "    }\n",
       "</style>\n",
       "<table border=\"1\" class=\"dataframe\">\n",
       "  <thead>\n",
       "    <tr style=\"text-align: right;\">\n",
       "      <th></th>\n",
       "      <th>0</th>\n",
       "      <th>1</th>\n",
       "      <th>2</th>\n",
       "      <th>3</th>\n",
       "      <th>4</th>\n",
       "      <th>5</th>\n",
       "      <th>6</th>\n",
       "      <th>7</th>\n",
       "      <th>8</th>\n",
       "      <th>9</th>\n",
       "      <th>10</th>\n",
       "      <th>11</th>\n",
       "    </tr>\n",
       "  </thead>\n",
       "  <tbody>\n",
       "    <tr>\n",
       "      <td>0</td>\n",
       "      <td>-15.331652</td>\n",
       "      <td>-14.451915</td>\n",
       "      <td>-14.185977</td>\n",
       "      <td>-13.442027</td>\n",
       "      <td>-12.811888</td>\n",
       "      <td>-12.468665</td>\n",
       "      <td>-9.799280</td>\n",
       "      <td>-8.171249</td>\n",
       "      <td>-6.797059</td>\n",
       "      <td>-5.286929</td>\n",
       "      <td>-4.088932</td>\n",
       "      <td>-3.012173</td>\n",
       "    </tr>\n",
       "    <tr>\n",
       "      <td>1</td>\n",
       "      <td>-16.847056</td>\n",
       "      <td>-16.334907</td>\n",
       "      <td>-15.740891</td>\n",
       "      <td>-15.828294</td>\n",
       "      <td>-13.281086</td>\n",
       "      <td>-11.456029</td>\n",
       "      <td>-11.284850</td>\n",
       "      <td>-8.006839</td>\n",
       "      <td>-7.398256</td>\n",
       "      <td>-6.818308</td>\n",
       "      <td>-3.263008</td>\n",
       "      <td>-2.000008</td>\n",
       "    </tr>\n",
       "    <tr>\n",
       "      <td>2</td>\n",
       "      <td>-18.310672</td>\n",
       "      <td>-19.238543</td>\n",
       "      <td>-19.624769</td>\n",
       "      <td>-17.954472</td>\n",
       "      <td>-15.506734</td>\n",
       "      <td>-14.268097</td>\n",
       "      <td>-15.088971</td>\n",
       "      <td>-15.705492</td>\n",
       "      <td>-9.438901</td>\n",
       "      <td>-6.003609</td>\n",
       "      <td>-2.935926</td>\n",
       "      <td>-1.000000</td>\n",
       "    </tr>\n",
       "    <tr>\n",
       "      <td>3</td>\n",
       "      <td>-19.610132</td>\n",
       "      <td>0.000000</td>\n",
       "      <td>0.000000</td>\n",
       "      <td>0.000000</td>\n",
       "      <td>0.000000</td>\n",
       "      <td>0.000000</td>\n",
       "      <td>0.000000</td>\n",
       "      <td>0.000000</td>\n",
       "      <td>0.000000</td>\n",
       "      <td>0.000000</td>\n",
       "      <td>0.000000</td>\n",
       "      <td>0.000000</td>\n",
       "    </tr>\n",
       "  </tbody>\n",
       "</table>\n",
       "</div>"
      ],
      "text/plain": [
       "           0          1          2          3          4          5  \\\n",
       "0 -15.331652 -14.451915 -14.185977 -13.442027 -12.811888 -12.468665   \n",
       "1 -16.847056 -16.334907 -15.740891 -15.828294 -13.281086 -11.456029   \n",
       "2 -18.310672 -19.238543 -19.624769 -17.954472 -15.506734 -14.268097   \n",
       "3 -19.610132   0.000000   0.000000   0.000000   0.000000   0.000000   \n",
       "\n",
       "           6          7         8         9        10        11  \n",
       "0  -9.799280  -8.171249 -6.797059 -5.286929 -4.088932 -3.012173  \n",
       "1 -11.284850  -8.006839 -7.398256 -6.818308 -3.263008 -2.000008  \n",
       "2 -15.088971 -15.705492 -9.438901 -6.003609 -2.935926 -1.000000  \n",
       "3   0.000000   0.000000  0.000000  0.000000  0.000000  0.000000  "
      ]
     },
     "execution_count": 23,
     "metadata": {},
     "output_type": "execute_result"
    }
   ],
   "source": [
    "tdlAgent.state_value()\n",
    "env.show_state_value(tdlAgent.U)"
   ]
  },
  {
   "cell_type": "code",
   "execution_count": 24,
   "metadata": {},
   "outputs": [
    {
     "data": {
      "text/html": [
       "<div>\n",
       "<style scoped>\n",
       "    .dataframe tbody tr th:only-of-type {\n",
       "        vertical-align: middle;\n",
       "    }\n",
       "\n",
       "    .dataframe tbody tr th {\n",
       "        vertical-align: top;\n",
       "    }\n",
       "\n",
       "    .dataframe thead th {\n",
       "        text-align: right;\n",
       "    }\n",
       "</style>\n",
       "<table border=\"1\" class=\"dataframe\">\n",
       "  <thead>\n",
       "    <tr style=\"text-align: right;\">\n",
       "      <th></th>\n",
       "      <th>0</th>\n",
       "      <th>1</th>\n",
       "      <th>2</th>\n",
       "      <th>3</th>\n",
       "      <th>4</th>\n",
       "      <th>5</th>\n",
       "      <th>6</th>\n",
       "      <th>7</th>\n",
       "      <th>8</th>\n",
       "      <th>9</th>\n",
       "      <th>10</th>\n",
       "      <th>11</th>\n",
       "    </tr>\n",
       "  </thead>\n",
       "  <tbody>\n",
       "    <tr>\n",
       "      <td>0</td>\n",
       "      <td>right</td>\n",
       "      <td>right</td>\n",
       "      <td>right</td>\n",
       "      <td>right</td>\n",
       "      <td>right</td>\n",
       "      <td>down</td>\n",
       "      <td>right</td>\n",
       "      <td>right</td>\n",
       "      <td>right</td>\n",
       "      <td>right</td>\n",
       "      <td>right</td>\n",
       "      <td>down</td>\n",
       "    </tr>\n",
       "    <tr>\n",
       "      <td>1</td>\n",
       "      <td>up</td>\n",
       "      <td>up</td>\n",
       "      <td>up</td>\n",
       "      <td>up</td>\n",
       "      <td>right</td>\n",
       "      <td>right</td>\n",
       "      <td>up</td>\n",
       "      <td>right</td>\n",
       "      <td>right</td>\n",
       "      <td>up</td>\n",
       "      <td>right</td>\n",
       "      <td>down</td>\n",
       "    </tr>\n",
       "    <tr>\n",
       "      <td>2</td>\n",
       "      <td>up</td>\n",
       "      <td>up</td>\n",
       "      <td>up</td>\n",
       "      <td>right</td>\n",
       "      <td>up</td>\n",
       "      <td>up</td>\n",
       "      <td>up</td>\n",
       "      <td>left</td>\n",
       "      <td>up</td>\n",
       "      <td>up</td>\n",
       "      <td>right</td>\n",
       "      <td>down</td>\n",
       "    </tr>\n",
       "    <tr>\n",
       "      <td>3</td>\n",
       "      <td>up</td>\n",
       "      <td>left</td>\n",
       "      <td>left</td>\n",
       "      <td>left</td>\n",
       "      <td>left</td>\n",
       "      <td>left</td>\n",
       "      <td>left</td>\n",
       "      <td>left</td>\n",
       "      <td>left</td>\n",
       "      <td>left</td>\n",
       "      <td>left</td>\n",
       "      <td>left</td>\n",
       "    </tr>\n",
       "  </tbody>\n",
       "</table>\n",
       "</div>"
      ],
      "text/plain": [
       "       0      1      2      3      4      5      6      7      8      9  \\\n",
       "0  right  right  right  right  right   down  right  right  right  right   \n",
       "1     up     up     up     up  right  right     up  right  right     up   \n",
       "2     up     up     up  right     up     up     up   left     up     up   \n",
       "3     up   left   left   left   left   left   left   left   left   left   \n",
       "\n",
       "      10    11  \n",
       "0  right  down  \n",
       "1  right  down  \n",
       "2  right  down  \n",
       "3   left  left  "
      ]
     },
     "execution_count": 24,
     "metadata": {},
     "output_type": "execute_result"
    }
   ],
   "source": [
    "tdlAgent.extract_policy()\n",
    "env.show_policy(tdlAgent.pi)"
   ]
  },
  {
   "cell_type": "markdown",
   "metadata": {},
   "source": [
    "### Q-learning"
   ]
  },
  {
   "cell_type": "code",
   "execution_count": 25,
   "metadata": {},
   "outputs": [
    {
     "name": "stderr",
     "output_type": "stream",
     "text": [
      "100%|██████████| 500/500 [00:00<00:00, 1778.52it/s]\n"
     ]
    }
   ],
   "source": [
    "tdlAgent.reset()\n",
    "_ = tdlAgent.q_learning(500, 1000, env)"
   ]
  },
  {
   "cell_type": "code",
   "execution_count": 26,
   "metadata": {},
   "outputs": [
    {
     "data": {
      "text/html": [
       "<div>\n",
       "<style scoped>\n",
       "    .dataframe tbody tr th:only-of-type {\n",
       "        vertical-align: middle;\n",
       "    }\n",
       "\n",
       "    .dataframe tbody tr th {\n",
       "        vertical-align: top;\n",
       "    }\n",
       "\n",
       "    .dataframe thead th {\n",
       "        text-align: right;\n",
       "    }\n",
       "</style>\n",
       "<table border=\"1\" class=\"dataframe\">\n",
       "  <thead>\n",
       "    <tr style=\"text-align: right;\">\n",
       "      <th></th>\n",
       "      <th>0</th>\n",
       "      <th>1</th>\n",
       "      <th>2</th>\n",
       "      <th>3</th>\n",
       "      <th>4</th>\n",
       "      <th>5</th>\n",
       "      <th>6</th>\n",
       "      <th>7</th>\n",
       "      <th>8</th>\n",
       "      <th>9</th>\n",
       "      <th>10</th>\n",
       "      <th>11</th>\n",
       "    </tr>\n",
       "  </thead>\n",
       "  <tbody>\n",
       "    <tr>\n",
       "      <td>0</td>\n",
       "      <td>-12.473266</td>\n",
       "      <td>-11.745518</td>\n",
       "      <td>-10.954336</td>\n",
       "      <td>-10.118957</td>\n",
       "      <td>-9.282304</td>\n",
       "      <td>-8.415075</td>\n",
       "      <td>-7.576770</td>\n",
       "      <td>-6.719518</td>\n",
       "      <td>-5.781053</td>\n",
       "      <td>-4.904206</td>\n",
       "      <td>-3.964531</td>\n",
       "      <td>-2.997913</td>\n",
       "    </tr>\n",
       "    <tr>\n",
       "      <td>1</td>\n",
       "      <td>-12.941128</td>\n",
       "      <td>-11.991914</td>\n",
       "      <td>-10.998459</td>\n",
       "      <td>-9.999330</td>\n",
       "      <td>-8.999732</td>\n",
       "      <td>-7.999867</td>\n",
       "      <td>-6.999959</td>\n",
       "      <td>-5.999986</td>\n",
       "      <td>-4.999998</td>\n",
       "      <td>-4.000000</td>\n",
       "      <td>-3.000000</td>\n",
       "      <td>-2.000000</td>\n",
       "    </tr>\n",
       "    <tr>\n",
       "      <td>2</td>\n",
       "      <td>-12.000000</td>\n",
       "      <td>-11.000000</td>\n",
       "      <td>-10.000000</td>\n",
       "      <td>-9.000000</td>\n",
       "      <td>-8.000000</td>\n",
       "      <td>-7.000000</td>\n",
       "      <td>-6.000000</td>\n",
       "      <td>-5.000000</td>\n",
       "      <td>-4.000000</td>\n",
       "      <td>-3.000000</td>\n",
       "      <td>-2.000000</td>\n",
       "      <td>-1.000000</td>\n",
       "    </tr>\n",
       "    <tr>\n",
       "      <td>3</td>\n",
       "      <td>-13.000000</td>\n",
       "      <td>0.000000</td>\n",
       "      <td>0.000000</td>\n",
       "      <td>0.000000</td>\n",
       "      <td>0.000000</td>\n",
       "      <td>0.000000</td>\n",
       "      <td>0.000000</td>\n",
       "      <td>0.000000</td>\n",
       "      <td>0.000000</td>\n",
       "      <td>0.000000</td>\n",
       "      <td>0.000000</td>\n",
       "      <td>0.000000</td>\n",
       "    </tr>\n",
       "  </tbody>\n",
       "</table>\n",
       "</div>"
      ],
      "text/plain": [
       "           0          1          2          3         4         5         6  \\\n",
       "0 -12.473266 -11.745518 -10.954336 -10.118957 -9.282304 -8.415075 -7.576770   \n",
       "1 -12.941128 -11.991914 -10.998459  -9.999330 -8.999732 -7.999867 -6.999959   \n",
       "2 -12.000000 -11.000000 -10.000000  -9.000000 -8.000000 -7.000000 -6.000000   \n",
       "3 -13.000000   0.000000   0.000000   0.000000  0.000000  0.000000  0.000000   \n",
       "\n",
       "          7         8         9        10        11  \n",
       "0 -6.719518 -5.781053 -4.904206 -3.964531 -2.997913  \n",
       "1 -5.999986 -4.999998 -4.000000 -3.000000 -2.000000  \n",
       "2 -5.000000 -4.000000 -3.000000 -2.000000 -1.000000  \n",
       "3  0.000000  0.000000  0.000000  0.000000  0.000000  "
      ]
     },
     "execution_count": 26,
     "metadata": {},
     "output_type": "execute_result"
    }
   ],
   "source": [
    "tdlAgent.state_value()\n",
    "env.show_state_value(tdlAgent.U)"
   ]
  },
  {
   "cell_type": "code",
   "execution_count": 27,
   "metadata": {},
   "outputs": [
    {
     "data": {
      "text/html": [
       "<div>\n",
       "<style scoped>\n",
       "    .dataframe tbody tr th:only-of-type {\n",
       "        vertical-align: middle;\n",
       "    }\n",
       "\n",
       "    .dataframe tbody tr th {\n",
       "        vertical-align: top;\n",
       "    }\n",
       "\n",
       "    .dataframe thead th {\n",
       "        text-align: right;\n",
       "    }\n",
       "</style>\n",
       "<table border=\"1\" class=\"dataframe\">\n",
       "  <thead>\n",
       "    <tr style=\"text-align: right;\">\n",
       "      <th></th>\n",
       "      <th>0</th>\n",
       "      <th>1</th>\n",
       "      <th>2</th>\n",
       "      <th>3</th>\n",
       "      <th>4</th>\n",
       "      <th>5</th>\n",
       "      <th>6</th>\n",
       "      <th>7</th>\n",
       "      <th>8</th>\n",
       "      <th>9</th>\n",
       "      <th>10</th>\n",
       "      <th>11</th>\n",
       "    </tr>\n",
       "  </thead>\n",
       "  <tbody>\n",
       "    <tr>\n",
       "      <td>0</td>\n",
       "      <td>right</td>\n",
       "      <td>right</td>\n",
       "      <td>down</td>\n",
       "      <td>right</td>\n",
       "      <td>right</td>\n",
       "      <td>right</td>\n",
       "      <td>right</td>\n",
       "      <td>right</td>\n",
       "      <td>down</td>\n",
       "      <td>right</td>\n",
       "      <td>right</td>\n",
       "      <td>down</td>\n",
       "    </tr>\n",
       "    <tr>\n",
       "      <td>1</td>\n",
       "      <td>right</td>\n",
       "      <td>down</td>\n",
       "      <td>right</td>\n",
       "      <td>down</td>\n",
       "      <td>right</td>\n",
       "      <td>right</td>\n",
       "      <td>down</td>\n",
       "      <td>right</td>\n",
       "      <td>down</td>\n",
       "      <td>right</td>\n",
       "      <td>down</td>\n",
       "      <td>down</td>\n",
       "    </tr>\n",
       "    <tr>\n",
       "      <td>2</td>\n",
       "      <td>right</td>\n",
       "      <td>right</td>\n",
       "      <td>right</td>\n",
       "      <td>right</td>\n",
       "      <td>right</td>\n",
       "      <td>right</td>\n",
       "      <td>right</td>\n",
       "      <td>right</td>\n",
       "      <td>right</td>\n",
       "      <td>right</td>\n",
       "      <td>right</td>\n",
       "      <td>down</td>\n",
       "    </tr>\n",
       "    <tr>\n",
       "      <td>3</td>\n",
       "      <td>up</td>\n",
       "      <td>left</td>\n",
       "      <td>left</td>\n",
       "      <td>left</td>\n",
       "      <td>left</td>\n",
       "      <td>left</td>\n",
       "      <td>left</td>\n",
       "      <td>left</td>\n",
       "      <td>left</td>\n",
       "      <td>left</td>\n",
       "      <td>left</td>\n",
       "      <td>left</td>\n",
       "    </tr>\n",
       "  </tbody>\n",
       "</table>\n",
       "</div>"
      ],
      "text/plain": [
       "       0      1      2      3      4      5      6      7      8      9  \\\n",
       "0  right  right   down  right  right  right  right  right   down  right   \n",
       "1  right   down  right   down  right  right   down  right   down  right   \n",
       "2  right  right  right  right  right  right  right  right  right  right   \n",
       "3     up   left   left   left   left   left   left   left   left   left   \n",
       "\n",
       "      10    11  \n",
       "0  right  down  \n",
       "1   down  down  \n",
       "2  right  down  \n",
       "3   left  left  "
      ]
     },
     "execution_count": 27,
     "metadata": {},
     "output_type": "execute_result"
    }
   ],
   "source": [
    "tdlAgent.extract_policy()\n",
    "env.show_policy(tdlAgent.pi)"
   ]
  },
  {
   "cell_type": "code",
   "execution_count": 28,
   "metadata": {},
   "outputs": [],
   "source": [
    "def sarsa_vs_qlearning():\n",
    "    actions = np.array(['left', 'up', 'right', 'down'])\n",
    "    env = CliffWalking(actions)\n",
    "\n",
    "    n_episodes = 500\n",
    "    n_runs = 50\n",
    "\n",
    "    rewards_sarsa = np.zeros(n_episodes)\n",
    "    rewards_q_learning = np.zeros(n_episodes)\n",
    "\n",
    "    tdlAgent = TDLearningAgent(env.n_states, env.n_actions, env.action_sets, discount=1, epsilon=0.1, alpha=0.5)\n",
    "\n",
    "    df = pd.DataFrame()\n",
    "\n",
    "    for _ in tqdm(range(n_runs)):\n",
    "        tdlAgent.reset()\n",
    "        rewards_sarsa += tdlAgent.sarsa(n_episodes, 10000, env, disable_bar=True)\n",
    "\n",
    "        tdlAgent.reset()\n",
    "        rewards_q_learning += tdlAgent.q_learning(n_episodes, 10000, env, disable_bar=True)\n",
    "\n",
    "    rewards_sarsa /= n_runs\n",
    "    rewards_q_learning /= n_runs\n",
    "\n",
    "    df['sarsa'] = rewards_sarsa\n",
    "    df['qlearning'] = rewards_q_learning\n",
    "\n",
    "    plt.plot(rewards_sarsa, label='Sarsa')\n",
    "    plt.plot(rewards_q_learning, label='Q-Learning')\n",
    "    plt.xlabel('Episodes')\n",
    "    plt.ylabel('Sum of rewards during episode')\n",
    "    plt.ylim([-100, 0])\n",
    "    plt.legend()\n",
    "\n",
    "    return df"
   ]
  },
  {
   "cell_type": "code",
   "execution_count": 29,
   "metadata": {},
   "outputs": [
    {
     "name": "stderr",
     "output_type": "stream",
     "text": [
      "100%|██████████| 50/50 [00:27<00:00,  1.84it/s]\n"
     ]
    },
    {
     "data": {
      "image/png": "[encoded data removed]",
      "text/plain": [
       "<Figure size 432x288 with 1 Axes>"
      ]
     },
     "metadata": {
      "needs_background": "light"
     },
     "output_type": "display_data"
    }
   ],
   "source": [
    "df = sarsa_vs_qlearning()\n",
    "# df.to_csv('cliff_walk.csv', index=False)"
   ]
  },
  {
   "cell_type": "markdown",
   "metadata": {},
   "source": [
    "## Value Function Approximation"
   ]
  },
  {
   "cell_type": "markdown",
   "metadata": {},
   "source": [
    "### 1000-state random walk"
   ]
  },
  {
   "cell_type": "code",
   "execution_count": 30,
   "metadata": {},
   "outputs": [],
   "source": [
    "from environment import RandomWalk1000\n",
    "\n",
    "actions = ['left', 'right']\n",
    "env = RandomWalk1000(actions)"
   ]
  },
  {
   "cell_type": "code",
   "execution_count": 31,
   "metadata": {},
   "outputs": [
    {
     "name": "stdout",
     "output_type": "stream",
     "text": [
      "Iterative Policy Evaluation: iteration 1, delta 50.500000\n",
      "Iterative Policy Evaluation: iteration 2, delta 33.582500\n",
      "Iterative Policy Evaluation: iteration 3, delta 27.291463\n",
      "Iterative Policy Evaluation: iteration 4, delta 23.510209\n",
      "Iterative Policy Evaluation: iteration 5, delta 20.973638\n",
      "Iterative Policy Evaluation: iteration 6, delta 19.110095\n",
      "Iterative Policy Evaluation: iteration 7, delta 17.649758\n",
      "Iterative Policy Evaluation: iteration 8, delta 16.434293\n",
      "Iterative Policy Evaluation: iteration 9, delta 15.376968\n",
      "Iterative Policy Evaluation: iteration 10, delta 14.428426\n",
      "Iterative Policy Evaluation: iteration 11, delta 13.560505\n",
      "Iterative Policy Evaluation: iteration 12, delta 12.756628\n",
      "Iterative Policy Evaluation: iteration 13, delta 12.006648\n",
      "Iterative Policy Evaluation: iteration 14, delta 11.303981\n",
      "Iterative Policy Evaluation: iteration 15, delta 10.644044\n",
      "Iterative Policy Evaluation: iteration 16, delta 10.023390\n",
      "Iterative Policy Evaluation: iteration 17, delta 9.439243\n",
      "Iterative Policy Evaluation: iteration 18, delta 8.889236\n",
      "Iterative Policy Evaluation: iteration 19, delta 8.371271\n",
      "Iterative Policy Evaluation: iteration 20, delta 7.883437\n",
      "Iterative Policy Evaluation: iteration 21, delta 7.423968\n",
      "Iterative Policy Evaluation: iteration 22, delta 6.991216\n",
      "Iterative Policy Evaluation: iteration 23, delta 6.583632\n",
      "Iterative Policy Evaluation: iteration 24, delta 6.199763\n",
      "Iterative Policy Evaluation: iteration 25, delta 5.838235\n",
      "Iterative Policy Evaluation: iteration 26, delta 5.497758\n",
      "Iterative Policy Evaluation: iteration 27, delta 5.177110\n",
      "Iterative Policy Evaluation: iteration 28, delta 4.875144\n",
      "Iterative Policy Evaluation: iteration 29, delta 4.590774\n",
      "Iterative Policy Evaluation: iteration 30, delta 4.322979\n",
      "Iterative Policy Evaluation: iteration 31, delta 4.070796\n",
      "Iterative Policy Evaluation: iteration 32, delta 3.833315\n",
      "Iterative Policy Evaluation: iteration 33, delta 3.609683\n",
      "Iterative Policy Evaluation: iteration 34, delta 3.399093\n",
      "Iterative Policy Evaluation: iteration 35, delta 3.200785\n",
      "Iterative Policy Evaluation: iteration 36, delta 3.014043\n",
      "Iterative Policy Evaluation: iteration 37, delta 2.838194\n",
      "Iterative Policy Evaluation: iteration 38, delta 2.672603\n",
      "Iterative Policy Evaluation: iteration 39, delta 2.516672\n",
      "Iterative Policy Evaluation: iteration 40, delta 2.369838\n",
      "Iterative Policy Evaluation: iteration 41, delta 2.231569\n",
      "Iterative Policy Evaluation: iteration 42, delta 2.101367\n",
      "Iterative Policy Evaluation: iteration 43, delta 1.978762\n",
      "Iterative Policy Evaluation: iteration 44, delta 1.863309\n",
      "Iterative Policy Evaluation: iteration 45, delta 1.754593\n",
      "Iterative Policy Evaluation: iteration 46, delta 1.652219\n",
      "Iterative Policy Evaluation: iteration 47, delta 1.555818\n",
      "Iterative Policy Evaluation: iteration 48, delta 1.465042\n",
      "Iterative Policy Evaluation: iteration 49, delta 1.379562\n",
      "Iterative Policy Evaluation: iteration 50, delta 1.299070\n",
      "Iterative Policy Evaluation: iteration 51, delta 1.223273\n",
      "Iterative Policy Evaluation: iteration 52, delta 1.151900\n",
      "Iterative Policy Evaluation: iteration 53, delta 1.084690\n",
      "Iterative Policy Evaluation: iteration 54, delta 1.021402\n",
      "Iterative Policy Evaluation: iteration 55, delta 0.961807\n",
      "Iterative Policy Evaluation: iteration 56, delta 0.905689\n",
      "Iterative Policy Evaluation: iteration 57, delta 0.852845\n",
      "Iterative Policy Evaluation: iteration 58, delta 0.803084\n",
      "Iterative Policy Evaluation: iteration 59, delta 0.756227\n",
      "Iterative Policy Evaluation: iteration 60, delta 0.712103\n",
      "Iterative Policy Evaluation: iteration 61, delta 0.670554\n",
      "Iterative Policy Evaluation: iteration 62, delta 0.631430\n",
      "Iterative Policy Evaluation: iteration 63, delta 0.594588\n",
      "Iterative Policy Evaluation: iteration 64, delta 0.559896\n",
      "Iterative Policy Evaluation: iteration 65, delta 0.527228\n",
      "Iterative Policy Evaluation: iteration 66, delta 0.496466\n",
      "Iterative Policy Evaluation: iteration 67, delta 0.467498\n",
      "Iterative Policy Evaluation: iteration 68, delta 0.440221\n",
      "Iterative Policy Evaluation: iteration 69, delta 0.414536\n",
      "Iterative Policy Evaluation: iteration 70, delta 0.390349\n",
      "Iterative Policy Evaluation: iteration 71, delta 0.367573\n",
      "Iterative Policy Evaluation: iteration 72, delta 0.346127\n",
      "Iterative Policy Evaluation: iteration 73, delta 0.325931\n",
      "Iterative Policy Evaluation: iteration 74, delta 0.306914\n",
      "Iterative Policy Evaluation: iteration 75, delta 0.289007\n",
      "Iterative Policy Evaluation: iteration 76, delta 0.272144\n",
      "Iterative Policy Evaluation: iteration 77, delta 0.256265\n",
      "Iterative Policy Evaluation: iteration 78, delta 0.241313\n",
      "Iterative Policy Evaluation: iteration 79, delta 0.227233\n",
      "Iterative Policy Evaluation: iteration 80, delta 0.213975\n",
      "Iterative Policy Evaluation: iteration 81, delta 0.201490\n",
      "Iterative Policy Evaluation: iteration 82, delta 0.189734\n",
      "Iterative Policy Evaluation: iteration 83, delta 0.178664\n",
      "Iterative Policy Evaluation: iteration 84, delta 0.168239\n",
      "Iterative Policy Evaluation: iteration 85, delta 0.158423\n",
      "Iterative Policy Evaluation: iteration 86, delta 0.149179\n",
      "Iterative Policy Evaluation: iteration 87, delta 0.140475\n",
      "Iterative Policy Evaluation: iteration 88, delta 0.132279\n",
      "Iterative Policy Evaluation: iteration 89, delta 0.124561\n",
      "Iterative Policy Evaluation: iteration 90, delta 0.117293\n",
      "Iterative Policy Evaluation: iteration 91, delta 0.110450\n",
      "Iterative Policy Evaluation: iteration 92, delta 0.104005\n",
      "Iterative Policy Evaluation: iteration 93, delta 0.097937\n",
      "Iterative Policy Evaluation: iteration 94, delta 0.092223\n",
      "Iterative Policy Evaluation: iteration 95, delta 0.086842\n",
      "Iterative Policy Evaluation: iteration 96, delta 0.081775\n",
      "Iterative Policy Evaluation: iteration 97, delta 0.077003\n",
      "Iterative Policy Evaluation: iteration 98, delta 0.072511\n",
      "Iterative Policy Evaluation: iteration 99, delta 0.068280\n",
      "Iterative Policy Evaluation: iteration 100, delta 0.064296\n",
      "Iterative Policy Evaluation: iteration 101, delta 0.060544\n",
      "Iterative Policy Evaluation: iteration 102, delta 0.057012\n",
      "Iterative Policy Evaluation: iteration 103, delta 0.053685\n",
      "Iterative Policy Evaluation: iteration 104, delta 0.050553\n",
      "Iterative Policy Evaluation: iteration 105, delta 0.047603\n",
      "Iterative Policy Evaluation: iteration 106, delta 0.044826\n",
      "Iterative Policy Evaluation: iteration 107, delta 0.042210\n",
      "Iterative Policy Evaluation: iteration 108, delta 0.039748\n",
      "Iterative Policy Evaluation: iteration 109, delta 0.037428\n",
      "Iterative Policy Evaluation: iteration 110, delta 0.035245\n",
      "Iterative Policy Evaluation: iteration 111, delta 0.033188\n",
      "Iterative Policy Evaluation: iteration 112, delta 0.031252\n",
      "Iterative Policy Evaluation: iteration 113, delta 0.029428\n",
      "Iterative Policy Evaluation: iteration 114, delta 0.027711\n",
      "Iterative Policy Evaluation: iteration 115, delta 0.026094\n",
      "Iterative Policy Evaluation: iteration 116, delta 0.024572\n",
      "Iterative Policy Evaluation: iteration 117, delta 0.023138\n",
      "Iterative Policy Evaluation: iteration 118, delta 0.021788\n",
      "Iterative Policy Evaluation: iteration 119, delta 0.020517\n",
      "Iterative Policy Evaluation: iteration 120, delta 0.019320\n",
      "Iterative Policy Evaluation: iteration 121, delta 0.018193\n",
      "Iterative Policy Evaluation: iteration 122, delta 0.017131\n",
      "Iterative Policy Evaluation: iteration 123, delta 0.016132\n",
      "Iterative Policy Evaluation: iteration 124, delta 0.015190\n",
      "Iterative Policy Evaluation: iteration 125, delta 0.014304\n",
      "Iterative Policy Evaluation: iteration 126, delta 0.013469\n",
      "Iterative Policy Evaluation: iteration 127, delta 0.012684\n",
      "Iterative Policy Evaluation: iteration 128, delta 0.011943\n",
      "Iterative Policy Evaluation: iteration 129, delta 0.011247\n",
      "Iterative Policy Evaluation: iteration 130, delta 0.010590\n",
      "Iterative Policy Evaluation: iteration 131, delta 0.009973\n",
      "Iterative Policy Evaluation: iteration 132, delta 0.009391\n",
      "Iterative Policy Evaluation: iteration 133, delta 0.008843\n",
      "Iterative Policy Evaluation: iteration 134, delta 0.008327\n",
      "Iterative Policy Evaluation: iteration 135, delta 0.007841\n",
      "Iterative Policy Evaluation: iteration 136, delta 0.007383\n",
      "Iterative Policy Evaluation: iteration 137, delta 0.006953\n",
      "Iterative Policy Evaluation: iteration 138, delta 0.006547\n",
      "Iterative Policy Evaluation: iteration 139, delta 0.006165\n",
      "Iterative Policy Evaluation: iteration 140, delta 0.005805\n",
      "Iterative Policy Evaluation: iteration 141, delta 0.005467\n",
      "Iterative Policy Evaluation: iteration 142, delta 0.005148\n",
      "Iterative Policy Evaluation: iteration 143, delta 0.004847\n",
      "Iterative Policy Evaluation: iteration 144, delta 0.004564\n",
      "Iterative Policy Evaluation: iteration 145, delta 0.004298\n",
      "Iterative Policy Evaluation: iteration 146, delta 0.004047\n",
      "Iterative Policy Evaluation: iteration 147, delta 0.003811\n",
      "Iterative Policy Evaluation: iteration 148, delta 0.003589\n",
      "Iterative Policy Evaluation: iteration 149, delta 0.003379\n",
      "Iterative Policy Evaluation: iteration 150, delta 0.003182\n",
      "Iterative Policy Evaluation: iteration 151, delta 0.002997\n",
      "Iterative Policy Evaluation: iteration 152, delta 0.002822\n",
      "Iterative Policy Evaluation: iteration 153, delta 0.002657\n",
      "Iterative Policy Evaluation: iteration 154, delta 0.002502\n",
      "Iterative Policy Evaluation: iteration 155, delta 0.002356\n",
      "Iterative Policy Evaluation: iteration 156, delta 0.002219\n",
      "Iterative Policy Evaluation: iteration 157, delta 0.002089\n",
      "Iterative Policy Evaluation: iteration 158, delta 0.001967\n",
      "Iterative Policy Evaluation: iteration 159, delta 0.001852\n",
      "Iterative Policy Evaluation: iteration 160, delta 0.001744\n",
      "Iterative Policy Evaluation: iteration 161, delta 0.001643\n",
      "Iterative Policy Evaluation: iteration 162, delta 0.001547\n",
      "Iterative Policy Evaluation: iteration 163, delta 0.001457\n",
      "Iterative Policy Evaluation: iteration 164, delta 0.001372\n",
      "Iterative Policy Evaluation: iteration 165, delta 0.001292\n",
      "Iterative Policy Evaluation: iteration 166, delta 0.001216\n",
      "Iterative Policy Evaluation: iteration 167, delta 0.001145\n",
      "Iterative Policy Evaluation: iteration 168, delta 0.001078\n",
      "Iterative Policy Evaluation: iteration 169, delta 0.001015\n",
      "Iterative Policy Evaluation: iteration 170, delta 0.000956\n",
      "Iterative Policy Evaluation: iteration 171, delta 0.000900\n",
      "Iterative Policy Evaluation: iteration 172, delta 0.000848\n",
      "Iterative Policy Evaluation: iteration 173, delta 0.000798\n",
      "Iterative Policy Evaluation: iteration 174, delta 0.000752\n",
      "Iterative Policy Evaluation: iteration 175, delta 0.000708\n",
      "Iterative Policy Evaluation: iteration 176, delta 0.000667\n",
      "Iterative Policy Evaluation: iteration 177, delta 0.000628\n",
      "Iterative Policy Evaluation: iteration 178, delta 0.000591\n",
      "Iterative Policy Evaluation: iteration 179, delta 0.000557\n",
      "Iterative Policy Evaluation: iteration 180, delta 0.000524\n",
      "Iterative Policy Evaluation: iteration 181, delta 0.000494\n",
      "Iterative Policy Evaluation: iteration 182, delta 0.000465\n",
      "Iterative Policy Evaluation: iteration 183, delta 0.000438\n",
      "Iterative Policy Evaluation: iteration 184, delta 0.000412\n",
      "Iterative Policy Evaluation: iteration 185, delta 0.000388\n",
      "Iterative Policy Evaluation: iteration 186, delta 0.000365\n",
      "Iterative Policy Evaluation: iteration 187, delta 0.000344\n",
      "Iterative Policy Evaluation: iteration 188, delta 0.000324\n",
      "Iterative Policy Evaluation: iteration 189, delta 0.000305\n",
      "Iterative Policy Evaluation: iteration 190, delta 0.000287\n",
      "Iterative Policy Evaluation: iteration 191, delta 0.000271\n",
      "Iterative Policy Evaluation: iteration 192, delta 0.000255\n",
      "Iterative Policy Evaluation: iteration 193, delta 0.000240\n",
      "Iterative Policy Evaluation: iteration 194, delta 0.000226\n",
      "Iterative Policy Evaluation: iteration 195, delta 0.000213\n",
      "Iterative Policy Evaluation: iteration 196, delta 0.000200\n",
      "Iterative Policy Evaluation: iteration 197, delta 0.000189\n",
      "Iterative Policy Evaluation: iteration 198, delta 0.000178\n",
      "Iterative Policy Evaluation: iteration 199, delta 0.000167\n",
      "Iterative Policy Evaluation: iteration 200, delta 0.000158\n",
      "Iterative Policy Evaluation: iteration 201, delta 0.000148\n",
      "Iterative Policy Evaluation: iteration 202, delta 0.000140\n",
      "Iterative Policy Evaluation: iteration 203, delta 0.000132\n",
      "Iterative Policy Evaluation: iteration 204, delta 0.000124\n",
      "Iterative Policy Evaluation: iteration 205, delta 0.000117\n",
      "Iterative Policy Evaluation: iteration 206, delta 0.000110\n",
      "Iterative Policy Evaluation: iteration 207, delta 0.000103\n",
      "Iterative Policy Evaluation: iteration 208, delta 0.000097\n"
     ]
    }
   ],
   "source": [
    "from mdpagent import MDPAgent\n",
    "\n",
    "pi = np.ones((env.n_states, env.n_actions)) / env.n_actions\n",
    "mdpAgent = MDPAgent(env.n_states, env.n_actions, env.action_sets, discount=1, threshold=0.0001, max_iter=1000, verbose=True)\n",
    "mdpAgent.iterative_policy_evaluation(env, pi)\n",
    "true_values = mdpAgent.U[0 : env.n_nonterminal_states]"
   ]
  },
  {
   "cell_type": "code",
   "execution_count": 32,
   "metadata": {},
   "outputs": [
    {
     "data": {
      "text/html": [
       "<div>\n",
       "<style scoped>\n",
       "    .dataframe tbody tr th:only-of-type {\n",
       "        vertical-align: middle;\n",
       "    }\n",
       "\n",
       "    .dataframe tbody tr th {\n",
       "        vertical-align: top;\n",
       "    }\n",
       "\n",
       "    .dataframe thead th {\n",
       "        text-align: right;\n",
       "    }\n",
       "</style>\n",
       "<table border=\"1\" class=\"dataframe\">\n",
       "  <thead>\n",
       "    <tr style=\"text-align: right;\">\n",
       "      <th></th>\n",
       "      <th>0</th>\n",
       "      <th>1</th>\n",
       "      <th>2</th>\n",
       "      <th>3</th>\n",
       "      <th>4</th>\n",
       "      <th>5</th>\n",
       "      <th>6</th>\n",
       "      <th>7</th>\n",
       "      <th>8</th>\n",
       "      <th>9</th>\n",
       "      <th>...</th>\n",
       "      <th>990</th>\n",
       "      <th>991</th>\n",
       "      <th>992</th>\n",
       "      <th>993</th>\n",
       "      <th>994</th>\n",
       "      <th>995</th>\n",
       "      <th>996</th>\n",
       "      <th>997</th>\n",
       "      <th>998</th>\n",
       "      <th>999</th>\n",
       "    </tr>\n",
       "  </thead>\n",
       "  <tbody>\n",
       "    <tr>\n",
       "      <td>0</td>\n",
       "      <td>-0.92196</td>\n",
       "      <td>-0.920717</td>\n",
       "      <td>-0.919466</td>\n",
       "      <td>-0.918205</td>\n",
       "      <td>-0.916936</td>\n",
       "      <td>-0.915657</td>\n",
       "      <td>-0.91437</td>\n",
       "      <td>-0.913074</td>\n",
       "      <td>-0.911769</td>\n",
       "      <td>-0.910454</td>\n",
       "      <td>...</td>\n",
       "      <td>0.910454</td>\n",
       "      <td>0.911769</td>\n",
       "      <td>0.913074</td>\n",
       "      <td>0.91437</td>\n",
       "      <td>0.915657</td>\n",
       "      <td>0.916936</td>\n",
       "      <td>0.918205</td>\n",
       "      <td>0.919466</td>\n",
       "      <td>0.920717</td>\n",
       "      <td>0.92196</td>\n",
       "    </tr>\n",
       "  </tbody>\n",
       "</table>\n",
       "<p>1 rows × 1000 columns</p>\n",
       "</div>"
      ],
      "text/plain": [
       "       0         1         2         3         4         5        6    \\\n",
       "0 -0.92196 -0.920717 -0.919466 -0.918205 -0.916936 -0.915657 -0.91437   \n",
       "\n",
       "        7         8         9    ...       990       991       992      993  \\\n",
       "0 -0.913074 -0.911769 -0.910454  ...  0.910454  0.911769  0.913074  0.91437   \n",
       "\n",
       "        994       995       996       997       998      999  \n",
       "0  0.915657  0.916936  0.918205  0.919466  0.920717  0.92196  \n",
       "\n",
       "[1 rows x 1000 columns]"
      ]
     },
     "execution_count": 32,
     "metadata": {},
     "output_type": "execute_result"
    }
   ],
   "source": [
    "env.show_state_value(mdpAgent.U)"
   ]
  },
  {
   "cell_type": "markdown",
   "metadata": {},
   "source": [
    "### Gradient Monte Carlo"
   ]
  },
  {
   "cell_type": "code",
   "execution_count": 33,
   "metadata": {},
   "outputs": [],
   "source": [
    "from mdpagent import ApproximateRLAgent, AggregateValueFunction"
   ]
  },
  {
   "cell_type": "code",
   "execution_count": 34,
   "metadata": {},
   "outputs": [
    {
     "name": "stderr",
     "output_type": "stream",
     "text": [
      "100%|██████████| 100000/100000 [06:18<00:00, 264.14it/s]\n"
     ]
    },
    {
     "data": {
      "text/html": [
       "<div>\n",
       "<style scoped>\n",
       "    .dataframe tbody tr th:only-of-type {\n",
       "        vertical-align: middle;\n",
       "    }\n",
       "\n",
       "    .dataframe tbody tr th {\n",
       "        vertical-align: top;\n",
       "    }\n",
       "\n",
       "    .dataframe thead th {\n",
       "        text-align: right;\n",
       "    }\n",
       "</style>\n",
       "<table border=\"1\" class=\"dataframe\">\n",
       "  <thead>\n",
       "    <tr style=\"text-align: right;\">\n",
       "      <th></th>\n",
       "      <th>0</th>\n",
       "      <th>1</th>\n",
       "      <th>2</th>\n",
       "      <th>3</th>\n",
       "      <th>4</th>\n",
       "      <th>5</th>\n",
       "      <th>6</th>\n",
       "      <th>7</th>\n",
       "      <th>8</th>\n",
       "      <th>9</th>\n",
       "      <th>...</th>\n",
       "      <th>990</th>\n",
       "      <th>991</th>\n",
       "      <th>992</th>\n",
       "      <th>993</th>\n",
       "      <th>994</th>\n",
       "      <th>995</th>\n",
       "      <th>996</th>\n",
       "      <th>997</th>\n",
       "      <th>998</th>\n",
       "      <th>999</th>\n",
       "    </tr>\n",
       "  </thead>\n",
       "  <tbody>\n",
       "    <tr>\n",
       "      <td>0</td>\n",
       "      <td>-0.823817</td>\n",
       "      <td>-0.823817</td>\n",
       "      <td>-0.823817</td>\n",
       "      <td>-0.823817</td>\n",
       "      <td>-0.823817</td>\n",
       "      <td>-0.823817</td>\n",
       "      <td>-0.823817</td>\n",
       "      <td>-0.823817</td>\n",
       "      <td>-0.823817</td>\n",
       "      <td>-0.823817</td>\n",
       "      <td>...</td>\n",
       "      <td>0.822756</td>\n",
       "      <td>0.822756</td>\n",
       "      <td>0.822756</td>\n",
       "      <td>0.822756</td>\n",
       "      <td>0.822756</td>\n",
       "      <td>0.822756</td>\n",
       "      <td>0.822756</td>\n",
       "      <td>0.822756</td>\n",
       "      <td>0.822756</td>\n",
       "      <td>0.822756</td>\n",
       "    </tr>\n",
       "  </tbody>\n",
       "</table>\n",
       "<p>1 rows × 1000 columns</p>\n",
       "</div>"
      ],
      "text/plain": [
       "        0         1         2         3         4         5         6    \\\n",
       "0 -0.823817 -0.823817 -0.823817 -0.823817 -0.823817 -0.823817 -0.823817   \n",
       "\n",
       "        7         8         9    ...       990       991       992       993  \\\n",
       "0 -0.823817 -0.823817 -0.823817  ...  0.822756  0.822756  0.822756  0.822756   \n",
       "\n",
       "        994       995       996       997       998       999  \n",
       "0  0.822756  0.822756  0.822756  0.822756  0.822756  0.822756  \n",
       "\n",
       "[1 rows x 1000 columns]"
      ]
     },
     "execution_count": 34,
     "metadata": {},
     "output_type": "execute_result"
    }
   ],
   "source": [
    "aggregateValueFunction = AggregateValueFunction(10, env.n_nonterminal_states)\n",
    "approximateRLAgent = ApproximateRLAgent(env.n_states, env.n_actions, aggregateValueFunction, env.action_sets, discount=1, alpha=2e-5)\n",
    "\n",
    "approximateRLAgent.gradient_monte_carlo_policy_evaluation(100000, 1000, env, pi)\n",
    "approximateRLAgent.approximate_state_value(env)\n",
    "mc_values = approximateRLAgent.U[0 : env.n_nonterminal_states]\n",
    "env.show_state_value(approximateRLAgent.U)"
   ]
  },
  {
   "cell_type": "markdown",
   "metadata": {},
   "source": [
    "### Semi-gradient temporal difference"
   ]
  },
  {
   "cell_type": "code",
   "execution_count": 35,
   "metadata": {},
   "outputs": [
    {
     "name": "stderr",
     "output_type": "stream",
     "text": [
      "100%|██████████| 100000/100000 [02:20<00:00, 709.63it/s]\n"
     ]
    },
    {
     "data": {
      "text/html": [
       "<div>\n",
       "<style scoped>\n",
       "    .dataframe tbody tr th:only-of-type {\n",
       "        vertical-align: middle;\n",
       "    }\n",
       "\n",
       "    .dataframe tbody tr th {\n",
       "        vertical-align: top;\n",
       "    }\n",
       "\n",
       "    .dataframe thead th {\n",
       "        text-align: right;\n",
       "    }\n",
       "</style>\n",
       "<table border=\"1\" class=\"dataframe\">\n",
       "  <thead>\n",
       "    <tr style=\"text-align: right;\">\n",
       "      <th></th>\n",
       "      <th>0</th>\n",
       "      <th>1</th>\n",
       "      <th>2</th>\n",
       "      <th>3</th>\n",
       "      <th>4</th>\n",
       "      <th>5</th>\n",
       "      <th>6</th>\n",
       "      <th>7</th>\n",
       "      <th>8</th>\n",
       "      <th>9</th>\n",
       "      <th>...</th>\n",
       "      <th>990</th>\n",
       "      <th>991</th>\n",
       "      <th>992</th>\n",
       "      <th>993</th>\n",
       "      <th>994</th>\n",
       "      <th>995</th>\n",
       "      <th>996</th>\n",
       "      <th>997</th>\n",
       "      <th>998</th>\n",
       "      <th>999</th>\n",
       "    </tr>\n",
       "  </thead>\n",
       "  <tbody>\n",
       "    <tr>\n",
       "      <td>0</td>\n",
       "      <td>-0.697591</td>\n",
       "      <td>-0.697591</td>\n",
       "      <td>-0.697591</td>\n",
       "      <td>-0.697591</td>\n",
       "      <td>-0.697591</td>\n",
       "      <td>-0.697591</td>\n",
       "      <td>-0.697591</td>\n",
       "      <td>-0.697591</td>\n",
       "      <td>-0.697591</td>\n",
       "      <td>-0.697591</td>\n",
       "      <td>...</td>\n",
       "      <td>0.724333</td>\n",
       "      <td>0.724333</td>\n",
       "      <td>0.724333</td>\n",
       "      <td>0.724333</td>\n",
       "      <td>0.724333</td>\n",
       "      <td>0.724333</td>\n",
       "      <td>0.724333</td>\n",
       "      <td>0.724333</td>\n",
       "      <td>0.724333</td>\n",
       "      <td>0.724333</td>\n",
       "    </tr>\n",
       "  </tbody>\n",
       "</table>\n",
       "<p>1 rows × 1000 columns</p>\n",
       "</div>"
      ],
      "text/plain": [
       "        0         1         2         3         4         5         6    \\\n",
       "0 -0.697591 -0.697591 -0.697591 -0.697591 -0.697591 -0.697591 -0.697591   \n",
       "\n",
       "        7         8         9    ...       990       991       992       993  \\\n",
       "0 -0.697591 -0.697591 -0.697591  ...  0.724333  0.724333  0.724333  0.724333   \n",
       "\n",
       "        994       995       996       997       998       999  \n",
       "0  0.724333  0.724333  0.724333  0.724333  0.724333  0.724333  \n",
       "\n",
       "[1 rows x 1000 columns]"
      ]
     },
     "execution_count": 35,
     "metadata": {},
     "output_type": "execute_result"
    }
   ],
   "source": [
    "aggregateValueFunction = AggregateValueFunction(10, env.n_nonterminal_states)\n",
    "approximateRLAgent = ApproximateRLAgent(env.n_states, env.n_actions, aggregateValueFunction, env.action_sets, discount=1, alpha=2e-4)\n",
    "\n",
    "approximateRLAgent.semigradient_temporal_difference_policy_evaluation(100000, 1000, env, pi)\n",
    "approximateRLAgent.approximate_state_value(env)\n",
    "td_values = approximateRLAgent.U[0 : env.n_nonterminal_states]\n",
    "env.show_state_value(approximateRLAgent.U)"
   ]
  },
  {
   "cell_type": "code",
   "execution_count": 36,
   "metadata": {},
   "outputs": [],
   "source": [
    "df = pd.DataFrame()\n",
    "df['state'] = range(1, env.n_nonterminal_states+1)\n",
    "df['true_value'] = true_values\n",
    "df['mc'] = mc_values\n",
    "df['td'] = td_values\n",
    "# df.to_csv('random_walk_1000.csv', index=False)"
   ]
  },
  {
   "cell_type": "code",
   "execution_count": 37,
   "metadata": {},
   "outputs": [
    {
     "data": {
      "text/plain": [
       "<matplotlib.legend.Legend at 0x1a1a885050>"
      ]
     },
     "execution_count": 37,
     "metadata": {},
     "output_type": "execute_result"
    },
    {
     "data": {
      "image/png": "[encoded data removed]",
      "text/plain": [
       "<Figure size 432x288 with 1 Axes>"
      ]
     },
     "metadata": {
      "needs_background": "light"
     },
     "output_type": "display_data"
    }
   ],
   "source": [
    "x = np.arange(1, env.n_nonterminal_states+1)\n",
    "plt.plot(x, mc_values, label='Approximate MC value')\n",
    "plt.plot(x, td_values, label='Approximate TD value')\n",
    "plt.plot(x, true_values, label='True value')\n",
    "plt.xlabel('State')\n",
    "plt.ylabel('Value')\n",
    "plt.legend()"
   ]
  },
  {
   "cell_type": "markdown",
   "metadata": {},
   "source": [
    "### Differential semi-gradient Sarsa"
   ]
  },
  {
   "cell_type": "code",
   "execution_count": 38,
   "metadata": {},
   "outputs": [],
   "source": [
    "from environment import AccessControl\n",
    "from mdpagent import TileCodingValueFunction"
   ]
  },
  {
   "cell_type": "code",
   "execution_count": 39,
   "metadata": {},
   "outputs": [],
   "source": [
    "actions = ['reject', 'accept']\n",
    "priorities = [1, 2, 4, 8]\n",
    "\n",
    "env = AccessControl(actions, 10, priorities)"
   ]
  },
  {
   "cell_type": "code",
   "execution_count": 40,
   "metadata": {},
   "outputs": [
    {
     "name": "stderr",
     "output_type": "stream",
     "text": [
      "100%|██████████| 2000000/2000000 [05:04<00:00, 6576.88it/s]\n"
     ]
    }
   ],
   "source": [
    "tileCoding = TileCodingValueFunction(8, 2048)\n",
    "approximateRLAgent = ApproximateRLAgent(env.n_states, env.n_actions, tileCoding, env.action_sets, discount=1, epsilon=0.1, alpha=0.01, beta=0.01)\n",
    "approximateRLAgent.differential_semigradient_sarsa(2000000, env)"
   ]
  },
  {
   "cell_type": "code",
   "execution_count": 41,
   "metadata": {},
   "outputs": [
    {
     "data": {
      "text/plain": [
       "2.7905428769645124"
      ]
     },
     "execution_count": 41,
     "metadata": {},
     "output_type": "execute_result"
    }
   ],
   "source": [
    "approximateRLAgent.average_reward"
   ]
  },
  {
   "cell_type": "code",
   "execution_count": 42,
   "metadata": {},
   "outputs": [
    {
     "data": {
      "text/html": [
       "<div>\n",
       "<style scoped>\n",
       "    .dataframe tbody tr th:only-of-type {\n",
       "        vertical-align: middle;\n",
       "    }\n",
       "\n",
       "    .dataframe tbody tr th {\n",
       "        vertical-align: top;\n",
       "    }\n",
       "\n",
       "    .dataframe thead th {\n",
       "        text-align: right;\n",
       "    }\n",
       "</style>\n",
       "<table border=\"1\" class=\"dataframe\">\n",
       "  <thead>\n",
       "    <tr style=\"text-align: right;\">\n",
       "      <th></th>\n",
       "      <th>0</th>\n",
       "      <th>1</th>\n",
       "      <th>2</th>\n",
       "      <th>3</th>\n",
       "      <th>4</th>\n",
       "      <th>5</th>\n",
       "      <th>6</th>\n",
       "      <th>7</th>\n",
       "      <th>8</th>\n",
       "      <th>9</th>\n",
       "      <th>10</th>\n",
       "    </tr>\n",
       "  </thead>\n",
       "  <tbody>\n",
       "    <tr>\n",
       "      <td>0</td>\n",
       "      <td>-9.441992</td>\n",
       "      <td>-5.795098</td>\n",
       "      <td>-3.266960</td>\n",
       "      <td>-1.264669</td>\n",
       "      <td>0.958702</td>\n",
       "      <td>2.144736</td>\n",
       "      <td>3.196473</td>\n",
       "      <td>4.324890</td>\n",
       "      <td>1.757585</td>\n",
       "      <td>0.320762</td>\n",
       "      <td>-0.000619</td>\n",
       "    </tr>\n",
       "    <tr>\n",
       "      <td>1</td>\n",
       "      <td>-8.626677</td>\n",
       "      <td>-5.681656</td>\n",
       "      <td>-3.156710</td>\n",
       "      <td>-1.322997</td>\n",
       "      <td>0.594110</td>\n",
       "      <td>2.571666</td>\n",
       "      <td>3.999843</td>\n",
       "      <td>5.050504</td>\n",
       "      <td>2.622608</td>\n",
       "      <td>0.543487</td>\n",
       "      <td>0.002398</td>\n",
       "    </tr>\n",
       "    <tr>\n",
       "      <td>2</td>\n",
       "      <td>-9.491304</td>\n",
       "      <td>-5.549946</td>\n",
       "      <td>-1.778232</td>\n",
       "      <td>0.180601</td>\n",
       "      <td>2.183925</td>\n",
       "      <td>4.213579</td>\n",
       "      <td>6.101564</td>\n",
       "      <td>7.194495</td>\n",
       "      <td>3.317010</td>\n",
       "      <td>0.745049</td>\n",
       "      <td>0.089744</td>\n",
       "    </tr>\n",
       "    <tr>\n",
       "      <td>3</td>\n",
       "      <td>-9.192500</td>\n",
       "      <td>-1.287967</td>\n",
       "      <td>2.158671</td>\n",
       "      <td>4.263027</td>\n",
       "      <td>6.767507</td>\n",
       "      <td>8.669565</td>\n",
       "      <td>9.975084</td>\n",
       "      <td>10.882335</td>\n",
       "      <td>5.815699</td>\n",
       "      <td>1.572325</td>\n",
       "      <td>0.130966</td>\n",
       "    </tr>\n",
       "  </tbody>\n",
       "</table>\n",
       "</div>"
      ],
      "text/plain": [
       "          0         1         2         3         4         5         6  \\\n",
       "0 -9.441992 -5.795098 -3.266960 -1.264669  0.958702  2.144736  3.196473   \n",
       "1 -8.626677 -5.681656 -3.156710 -1.322997  0.594110  2.571666  3.999843   \n",
       "2 -9.491304 -5.549946 -1.778232  0.180601  2.183925  4.213579  6.101564   \n",
       "3 -9.192500 -1.287967  2.158671  4.263027  6.767507  8.669565  9.975084   \n",
       "\n",
       "           7         8         9        10  \n",
       "0   4.324890  1.757585  0.320762 -0.000619  \n",
       "1   5.050504  2.622608  0.543487  0.002398  \n",
       "2   7.194495  3.317010  0.745049  0.089744  \n",
       "3  10.882335  5.815699  1.572325  0.130966  "
      ]
     },
     "execution_count": 42,
     "metadata": {},
     "output_type": "execute_result"
    }
   ],
   "source": [
    "approximateRLAgent.approximate_state_value(env)\n",
    "df = env.show_state_value(approximateRLAgent.U)\n",
    "df"
   ]
  },
  {
   "cell_type": "code",
   "execution_count": 43,
   "metadata": {},
   "outputs": [
    {
     "data": {
      "text/html": [
       "<div>\n",
       "<style scoped>\n",
       "    .dataframe tbody tr th:only-of-type {\n",
       "        vertical-align: middle;\n",
       "    }\n",
       "\n",
       "    .dataframe tbody tr th {\n",
       "        vertical-align: top;\n",
       "    }\n",
       "\n",
       "    .dataframe thead th {\n",
       "        text-align: right;\n",
       "    }\n",
       "</style>\n",
       "<table border=\"1\" class=\"dataframe\">\n",
       "  <thead>\n",
       "    <tr style=\"text-align: right;\">\n",
       "      <th></th>\n",
       "      <th>0</th>\n",
       "      <th>1</th>\n",
       "      <th>2</th>\n",
       "      <th>3</th>\n",
       "      <th>4</th>\n",
       "      <th>5</th>\n",
       "      <th>6</th>\n",
       "      <th>7</th>\n",
       "      <th>8</th>\n",
       "      <th>9</th>\n",
       "      <th>10</th>\n",
       "    </tr>\n",
       "  </thead>\n",
       "  <tbody>\n",
       "    <tr>\n",
       "      <td>0</td>\n",
       "      <td>{'reject': -9.44, 'accept': -1e+100}</td>\n",
       "      <td>{'reject': -5.8, 'accept': -7.93}</td>\n",
       "      <td>{'reject': -3.27, 'accept': -5.0}</td>\n",
       "      <td>{'reject': -1.26, 'accept': -2.25}</td>\n",
       "      <td>{'reject': 0.96, 'accept': -0.21}</td>\n",
       "      <td>{'reject': 2.14, 'accept': 1.44}</td>\n",
       "      <td>{'reject': 2.78, 'accept': 3.2}</td>\n",
       "      <td>{'reject': 0.95, 'accept': 4.32}</td>\n",
       "      <td>{'reject': -0.1, 'accept': 1.76}</td>\n",
       "      <td>{'reject': -0.06, 'accept': 0.32}</td>\n",
       "      <td>{'reject': -0.0, 'accept': -0.0}</td>\n",
       "    </tr>\n",
       "    <tr>\n",
       "      <td>1</td>\n",
       "      <td>{'reject': -8.63, 'accept': -1e+100}</td>\n",
       "      <td>{'reject': -5.68, 'accept': -7.41}</td>\n",
       "      <td>{'reject': -3.16, 'accept': -3.96}</td>\n",
       "      <td>{'reject': -1.32, 'accept': -1.55}</td>\n",
       "      <td>{'reject': 0.23, 'accept': 0.59}</td>\n",
       "      <td>{'reject': 2.27, 'accept': 2.57}</td>\n",
       "      <td>{'reject': 2.91, 'accept': 4.0}</td>\n",
       "      <td>{'reject': 0.89, 'accept': 5.05}</td>\n",
       "      <td>{'reject': 0.06, 'accept': 2.62}</td>\n",
       "      <td>{'reject': 0.01, 'accept': 0.54}</td>\n",
       "      <td>{'reject': -0.0, 'accept': 0.0}</td>\n",
       "    </tr>\n",
       "    <tr>\n",
       "      <td>2</td>\n",
       "      <td>{'reject': -9.49, 'accept': -1e+100}</td>\n",
       "      <td>{'reject': -5.87, 'accept': -5.55}</td>\n",
       "      <td>{'reject': -3.12, 'accept': -1.78}</td>\n",
       "      <td>{'reject': -1.38, 'accept': 0.18}</td>\n",
       "      <td>{'reject': 0.69, 'accept': 2.18}</td>\n",
       "      <td>{'reject': 2.03, 'accept': 4.21}</td>\n",
       "      <td>{'reject': 2.85, 'accept': 6.1}</td>\n",
       "      <td>{'reject': 1.21, 'accept': 7.19}</td>\n",
       "      <td>{'reject': 0.05, 'accept': 3.32}</td>\n",
       "      <td>{'reject': -0.03, 'accept': 0.75}</td>\n",
       "      <td>{'reject': -0.0, 'accept': 0.09}</td>\n",
       "    </tr>\n",
       "    <tr>\n",
       "      <td>3</td>\n",
       "      <td>{'reject': -9.19, 'accept': -1e+100}</td>\n",
       "      <td>{'reject': -5.55, 'accept': -1.29}</td>\n",
       "      <td>{'reject': -3.29, 'accept': 2.16}</td>\n",
       "      <td>{'reject': -1.54, 'accept': 4.26}</td>\n",
       "      <td>{'reject': 0.44, 'accept': 6.77}</td>\n",
       "      <td>{'reject': 2.11, 'accept': 8.67}</td>\n",
       "      <td>{'reject': 2.82, 'accept': 9.98}</td>\n",
       "      <td>{'reject': 1.21, 'accept': 10.88}</td>\n",
       "      <td>{'reject': 0.02, 'accept': 5.82}</td>\n",
       "      <td>{'reject': -0.04, 'accept': 1.57}</td>\n",
       "      <td>{'reject': -0.0, 'accept': 0.13}</td>\n",
       "    </tr>\n",
       "  </tbody>\n",
       "</table>\n",
       "</div>"
      ],
      "text/plain": [
       "                                      0                                   1  \\\n",
       "0  {'reject': -9.44, 'accept': -1e+100}   {'reject': -5.8, 'accept': -7.93}   \n",
       "1  {'reject': -8.63, 'accept': -1e+100}  {'reject': -5.68, 'accept': -7.41}   \n",
       "2  {'reject': -9.49, 'accept': -1e+100}  {'reject': -5.87, 'accept': -5.55}   \n",
       "3  {'reject': -9.19, 'accept': -1e+100}  {'reject': -5.55, 'accept': -1.29}   \n",
       "\n",
       "                                    2                                   3  \\\n",
       "0   {'reject': -3.27, 'accept': -5.0}  {'reject': -1.26, 'accept': -2.25}   \n",
       "1  {'reject': -3.16, 'accept': -3.96}  {'reject': -1.32, 'accept': -1.55}   \n",
       "2  {'reject': -3.12, 'accept': -1.78}   {'reject': -1.38, 'accept': 0.18}   \n",
       "3   {'reject': -3.29, 'accept': 2.16}   {'reject': -1.54, 'accept': 4.26}   \n",
       "\n",
       "                                   4                                 5  \\\n",
       "0  {'reject': 0.96, 'accept': -0.21}  {'reject': 2.14, 'accept': 1.44}   \n",
       "1   {'reject': 0.23, 'accept': 0.59}  {'reject': 2.27, 'accept': 2.57}   \n",
       "2   {'reject': 0.69, 'accept': 2.18}  {'reject': 2.03, 'accept': 4.21}   \n",
       "3   {'reject': 0.44, 'accept': 6.77}  {'reject': 2.11, 'accept': 8.67}   \n",
       "\n",
       "                                  6                                  7  \\\n",
       "0   {'reject': 2.78, 'accept': 3.2}   {'reject': 0.95, 'accept': 4.32}   \n",
       "1   {'reject': 2.91, 'accept': 4.0}   {'reject': 0.89, 'accept': 5.05}   \n",
       "2   {'reject': 2.85, 'accept': 6.1}   {'reject': 1.21, 'accept': 7.19}   \n",
       "3  {'reject': 2.82, 'accept': 9.98}  {'reject': 1.21, 'accept': 10.88}   \n",
       "\n",
       "                                  8                                  9  \\\n",
       "0  {'reject': -0.1, 'accept': 1.76}  {'reject': -0.06, 'accept': 0.32}   \n",
       "1  {'reject': 0.06, 'accept': 2.62}   {'reject': 0.01, 'accept': 0.54}   \n",
       "2  {'reject': 0.05, 'accept': 3.32}  {'reject': -0.03, 'accept': 0.75}   \n",
       "3  {'reject': 0.02, 'accept': 5.82}  {'reject': -0.04, 'accept': 1.57}   \n",
       "\n",
       "                                 10  \n",
       "0  {'reject': -0.0, 'accept': -0.0}  \n",
       "1   {'reject': -0.0, 'accept': 0.0}  \n",
       "2  {'reject': -0.0, 'accept': 0.09}  \n",
       "3  {'reject': -0.0, 'accept': 0.13}  "
      ]
     },
     "execution_count": 43,
     "metadata": {},
     "output_type": "execute_result"
    }
   ],
   "source": [
    "approximateRLAgent.approximate_action_value(env)\n",
    "env.show_action_value(approximateRLAgent.Q)"
   ]
  },
  {
   "cell_type": "code",
   "execution_count": 44,
   "metadata": {},
   "outputs": [
    {
     "data": {
      "text/html": [
       "<div>\n",
       "<style scoped>\n",
       "    .dataframe tbody tr th:only-of-type {\n",
       "        vertical-align: middle;\n",
       "    }\n",
       "\n",
       "    .dataframe tbody tr th {\n",
       "        vertical-align: top;\n",
       "    }\n",
       "\n",
       "    .dataframe thead th {\n",
       "        text-align: right;\n",
       "    }\n",
       "</style>\n",
       "<table border=\"1\" class=\"dataframe\">\n",
       "  <thead>\n",
       "    <tr style=\"text-align: right;\">\n",
       "      <th></th>\n",
       "      <th>0</th>\n",
       "      <th>1</th>\n",
       "      <th>2</th>\n",
       "      <th>3</th>\n",
       "      <th>4</th>\n",
       "      <th>5</th>\n",
       "      <th>6</th>\n",
       "      <th>7</th>\n",
       "      <th>8</th>\n",
       "      <th>9</th>\n",
       "      <th>10</th>\n",
       "    </tr>\n",
       "  </thead>\n",
       "  <tbody>\n",
       "    <tr>\n",
       "      <td>0</td>\n",
       "      <td>reject</td>\n",
       "      <td>reject</td>\n",
       "      <td>reject</td>\n",
       "      <td>reject</td>\n",
       "      <td>reject</td>\n",
       "      <td>reject</td>\n",
       "      <td>accept</td>\n",
       "      <td>accept</td>\n",
       "      <td>accept</td>\n",
       "      <td>accept</td>\n",
       "      <td>accept</td>\n",
       "    </tr>\n",
       "    <tr>\n",
       "      <td>1</td>\n",
       "      <td>reject</td>\n",
       "      <td>reject</td>\n",
       "      <td>reject</td>\n",
       "      <td>reject</td>\n",
       "      <td>accept</td>\n",
       "      <td>accept</td>\n",
       "      <td>accept</td>\n",
       "      <td>accept</td>\n",
       "      <td>accept</td>\n",
       "      <td>accept</td>\n",
       "      <td>accept</td>\n",
       "    </tr>\n",
       "    <tr>\n",
       "      <td>2</td>\n",
       "      <td>reject</td>\n",
       "      <td>accept</td>\n",
       "      <td>accept</td>\n",
       "      <td>accept</td>\n",
       "      <td>accept</td>\n",
       "      <td>accept</td>\n",
       "      <td>accept</td>\n",
       "      <td>accept</td>\n",
       "      <td>accept</td>\n",
       "      <td>accept</td>\n",
       "      <td>accept</td>\n",
       "    </tr>\n",
       "    <tr>\n",
       "      <td>3</td>\n",
       "      <td>reject</td>\n",
       "      <td>accept</td>\n",
       "      <td>accept</td>\n",
       "      <td>accept</td>\n",
       "      <td>accept</td>\n",
       "      <td>accept</td>\n",
       "      <td>accept</td>\n",
       "      <td>accept</td>\n",
       "      <td>accept</td>\n",
       "      <td>accept</td>\n",
       "      <td>accept</td>\n",
       "    </tr>\n",
       "  </tbody>\n",
       "</table>\n",
       "</div>"
      ],
      "text/plain": [
       "        0       1       2       3       4       5       6       7       8  \\\n",
       "0  reject  reject  reject  reject  reject  reject  accept  accept  accept   \n",
       "1  reject  reject  reject  reject  accept  accept  accept  accept  accept   \n",
       "2  reject  accept  accept  accept  accept  accept  accept  accept  accept   \n",
       "3  reject  accept  accept  accept  accept  accept  accept  accept  accept   \n",
       "\n",
       "        9      10  \n",
       "0  accept  accept  \n",
       "1  accept  accept  \n",
       "2  accept  accept  \n",
       "3  accept  accept  "
      ]
     },
     "execution_count": 44,
     "metadata": {},
     "output_type": "execute_result"
    }
   ],
   "source": [
    "approximateRLAgent.extract_policy()\n",
    "env.show_policy(approximateRLAgent.pi)"
   ]
  },
  {
   "cell_type": "code",
   "execution_count": 45,
   "metadata": {},
   "outputs": [
    {
     "data": {
      "text/plain": [
       "<matplotlib.legend.Legend at 0x106770650>"
      ]
     },
     "execution_count": 45,
     "metadata": {},
     "output_type": "execute_result"
    },
    {
     "data": {
      "image/png": "[encoded data removed]",
      "text/plain": [
       "<Figure size 432x288 with 1 Axes>"
      ]
     },
     "metadata": {
      "needs_background": "light"
     },
     "output_type": "display_data"
    }
   ],
   "source": [
    "df_U = pd.DataFrame()\n",
    "df_U['numofserver'] = range(env.n_servers+1)\n",
    "\n",
    "for i, priority in enumerate(priorities):\n",
    "    df_U['p%d' %priority] = df.iloc[i].values\n",
    "    plt.plot(range(env.n_servers+1), df.iloc[i].values, label='priority %d' % priority)\n",
    "\n",
    "# df_U.to_csv('queuing_value.csv', index=False)\n",
    "\n",
    "plt.xlabel('Number of free servers')\n",
    "plt.ylabel('Differential value of best action')\n",
    "plt.legend()"
   ]
  },
  {
   "cell_type": "markdown",
   "metadata": {},
   "source": [
    "## Monte Carlo Policy Gradient"
   ]
  },
  {
   "cell_type": "code",
   "execution_count": 46,
   "metadata": {},
   "outputs": [],
   "source": [
    "from environment import ShortCorridor\n",
    "from mdpagent import PolicyGradientAgent, Policy"
   ]
  },
  {
   "cell_type": "code",
   "execution_count": 47,
   "metadata": {},
   "outputs": [
    {
     "name": "stderr",
     "output_type": "stream",
     "text": [
      "100%|██████████| 1000/1000 [00:01<00:00, 590.58it/s]\n"
     ]
    },
    {
     "data": {
      "text/plain": [
       "array([[0.36924649, 0.63075351],\n",
       "       [0.36924649, 0.63075351],\n",
       "       [0.36924649, 0.63075351],\n",
       "       [0.36924649, 0.63075351]])"
      ]
     },
     "execution_count": 47,
     "metadata": {},
     "output_type": "execute_result"
    }
   ],
   "source": [
    "actions = ['left', 'right']\n",
    "env = ShortCorridor(actions)\n",
    "\n",
    "theta = np.array([-1.47, 1.47])\n",
    "beta = np.array([[0, 1], [1, 0]])\n",
    "\n",
    "policy = Policy(theta, beta)\n",
    "\n",
    "policyGradientAgent = PolicyGradientAgent(env.n_states, env.n_actions, policy, env.action_sets, discount=1, epsilon=0.05, alpha=2e-4, verbose=True)\n",
    "_ = policyGradientAgent.reinforce(1000, 10000, env)\n",
    "policyGradientAgent.policy.get_pi(env, policyGradientAgent.epsilon)"
   ]
  },
  {
   "cell_type": "code",
   "execution_count": 48,
   "metadata": {},
   "outputs": [],
   "source": [
    "def policy_gradient():\n",
    "    actions = ['left', 'right']\n",
    "    env = ShortCorridor(actions)\n",
    "\n",
    "    theta = np.array([-1.47, 1.47])\n",
    "    beta = np.array([[0, 1], [1, 0]])\n",
    "\n",
    "    n_runs = 100\n",
    "    n_episodes = 1000\n",
    "    alphas = [2e-4, 2e-5, 2e-3]\n",
    "\n",
    "    rewards = np.zeros((len(alphas), n_runs, n_episodes))\n",
    "\n",
    "    df = pd.DataFrame()\n",
    "\n",
    "    for i, alpha in enumerate(alphas):\n",
    "        for run in tqdm(range(n_runs)):\n",
    "            policy = Policy(theta, beta)\n",
    "            policyGradientAgent = PolicyGradientAgent(env.n_states, env.n_actions, policy, \n",
    "                                                            env.action_sets, discount=1, epsilon=0.05, \n",
    "                                                            alpha=alpha, verbose=True)\n",
    "            rewards[i, run, :] = policyGradientAgent.reinforce(n_episodes, 10000, env, disable_bar=True)\n",
    "\n",
    "    plt.plot(np.arange(n_episodes) + 1, -11.6 * np.ones(n_episodes), ls='dashed', color='red', label='-11.6')\n",
    "    for i, alpha in enumerate(alphas):\n",
    "        df['alpha%.5f' %alpha] = rewards[i].mean(axis=0)\n",
    "        plt.plot(np.arange(n_episodes) + 1, rewards[i].mean(axis=0), label=alpha)\n",
    "\n",
    "    plt.ylabel('total reward on episode')\n",
    "    plt.xlabel('episode')\n",
    "    plt.legend(loc='lower right')\n",
    "\n",
    "    return df"
   ]
  },
  {
   "cell_type": "code",
   "execution_count": 49,
   "metadata": {},
   "outputs": [
    {
     "name": "stderr",
     "output_type": "stream",
     "text": [
      "100%|██████████| 100/100 [02:25<00:00,  1.45s/it]\n",
      "100%|██████████| 100/100 [06:29<00:00,  3.89s/it]\n",
      "100%|██████████| 100/100 [04:05<00:00,  2.45s/it]\n"
     ]
    },
    {
     "data": {
      "image/png": "[encoded data removed]",
      "text/plain": [
       "<Figure size 432x288 with 1 Axes>"
      ]
     },
     "metadata": {
      "needs_background": "light"
     },
     "output_type": "display_data"
    }
   ],
   "source": [
    "df = policy_gradient()\n",
    "# df.to_csv('short_corridor.csv', index=False)"
   ]
  }
 ],
 "metadata": {
  "@webio": {
   "lastCommId": null,
   "lastKernelId": null
  },
  "kernelspec": {
   "display_name": "Python 3.7.4 64-bit ('base': conda)",
   "language": "python",
   "name": "python37464bitbasecondaf7267ca7d4b34cc89272181b3b23a81d"
  },
  "language_info": {
   "codemirror_mode": {
    "name": "ipython",
    "version": 3
   },
   "file_extension": ".py",
   "mimetype": "text/x-python",
   "name": "python",
   "nbconvert_exporter": "python",
   "pygments_lexer": "ipython3",
   "version": "3.7.4"
  }
 },
 "nbformat": 4,
 "nbformat_minor": 1
}
